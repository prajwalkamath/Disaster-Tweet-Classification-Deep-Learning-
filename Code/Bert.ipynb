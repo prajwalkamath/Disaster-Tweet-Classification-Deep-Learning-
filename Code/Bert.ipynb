{
  "cells": [
    {
      "cell_type": "code",
      "execution_count": 1,
      "metadata": {
        "id": "RqrXz747OU26",
        "colab": {
          "base_uri": "https://localhost:8080/"
        },
        "outputId": "06ae3b6c-fa7f-46fa-bc4d-5579d451ee46"
      },
      "outputs": [
        {
          "output_type": "stream",
          "name": "stdout",
          "text": [
            "Collecting transformers\n",
            "  Downloading transformers-4.18.0-py3-none-any.whl (4.0 MB)\n",
            "\u001b[K     |████████████████████████████████| 4.0 MB 5.1 MB/s \n",
            "\u001b[?25hCollecting tokenizers!=0.11.3,<0.13,>=0.11.1\n",
            "  Downloading tokenizers-0.12.1-cp37-cp37m-manylinux_2_12_x86_64.manylinux2010_x86_64.whl (6.6 MB)\n",
            "\u001b[K     |████████████████████████████████| 6.6 MB 38.5 MB/s \n",
            "\u001b[?25hCollecting pyyaml>=5.1\n",
            "  Downloading PyYAML-6.0-cp37-cp37m-manylinux_2_5_x86_64.manylinux1_x86_64.manylinux_2_12_x86_64.manylinux2010_x86_64.whl (596 kB)\n",
            "\u001b[K     |████████████████████████████████| 596 kB 46.2 MB/s \n",
            "\u001b[?25hCollecting sacremoses\n",
            "  Downloading sacremoses-0.0.53.tar.gz (880 kB)\n",
            "\u001b[K     |████████████████████████████████| 880 kB 57.7 MB/s \n",
            "\u001b[?25hRequirement already satisfied: numpy>=1.17 in /usr/local/lib/python3.7/dist-packages (from transformers) (1.21.6)\n",
            "Collecting huggingface-hub<1.0,>=0.1.0\n",
            "  Downloading huggingface_hub-0.5.1-py3-none-any.whl (77 kB)\n",
            "\u001b[K     |████████████████████████████████| 77 kB 5.8 MB/s \n",
            "\u001b[?25hRequirement already satisfied: regex!=2019.12.17 in /usr/local/lib/python3.7/dist-packages (from transformers) (2019.12.20)\n",
            "Requirement already satisfied: requests in /usr/local/lib/python3.7/dist-packages (from transformers) (2.23.0)\n",
            "Requirement already satisfied: tqdm>=4.27 in /usr/local/lib/python3.7/dist-packages (from transformers) (4.64.0)\n",
            "Requirement already satisfied: filelock in /usr/local/lib/python3.7/dist-packages (from transformers) (3.6.0)\n",
            "Requirement already satisfied: importlib-metadata in /usr/local/lib/python3.7/dist-packages (from transformers) (4.11.3)\n",
            "Requirement already satisfied: packaging>=20.0 in /usr/local/lib/python3.7/dist-packages (from transformers) (21.3)\n",
            "Requirement already satisfied: typing-extensions>=3.7.4.3 in /usr/local/lib/python3.7/dist-packages (from huggingface-hub<1.0,>=0.1.0->transformers) (4.2.0)\n",
            "Requirement already satisfied: pyparsing!=3.0.5,>=2.0.2 in /usr/local/lib/python3.7/dist-packages (from packaging>=20.0->transformers) (3.0.8)\n",
            "Requirement already satisfied: zipp>=0.5 in /usr/local/lib/python3.7/dist-packages (from importlib-metadata->transformers) (3.8.0)\n",
            "Requirement already satisfied: chardet<4,>=3.0.2 in /usr/local/lib/python3.7/dist-packages (from requests->transformers) (3.0.4)\n",
            "Requirement already satisfied: urllib3!=1.25.0,!=1.25.1,<1.26,>=1.21.1 in /usr/local/lib/python3.7/dist-packages (from requests->transformers) (1.24.3)\n",
            "Requirement already satisfied: idna<3,>=2.5 in /usr/local/lib/python3.7/dist-packages (from requests->transformers) (2.10)\n",
            "Requirement already satisfied: certifi>=2017.4.17 in /usr/local/lib/python3.7/dist-packages (from requests->transformers) (2021.10.8)\n",
            "Requirement already satisfied: six in /usr/local/lib/python3.7/dist-packages (from sacremoses->transformers) (1.15.0)\n",
            "Requirement already satisfied: click in /usr/local/lib/python3.7/dist-packages (from sacremoses->transformers) (7.1.2)\n",
            "Requirement already satisfied: joblib in /usr/local/lib/python3.7/dist-packages (from sacremoses->transformers) (1.1.0)\n",
            "Building wheels for collected packages: sacremoses\n",
            "  Building wheel for sacremoses (setup.py) ... \u001b[?25l\u001b[?25hdone\n",
            "  Created wheel for sacremoses: filename=sacremoses-0.0.53-py3-none-any.whl size=895260 sha256=59177477fba55a651916bceeb06c62d4949a8074b827ce13c653d019ef29479c\n",
            "  Stored in directory: /root/.cache/pip/wheels/87/39/dd/a83eeef36d0bf98e7a4d1933a4ad2d660295a40613079bafc9\n",
            "Successfully built sacremoses\n",
            "Installing collected packages: pyyaml, tokenizers, sacremoses, huggingface-hub, transformers\n",
            "  Attempting uninstall: pyyaml\n",
            "    Found existing installation: PyYAML 3.13\n",
            "    Uninstalling PyYAML-3.13:\n",
            "      Successfully uninstalled PyYAML-3.13\n",
            "Successfully installed huggingface-hub-0.5.1 pyyaml-6.0 sacremoses-0.0.53 tokenizers-0.12.1 transformers-4.18.0\n"
          ]
        }
      ],
      "source": [
        "!pip install transformers"
      ]
    },
    {
      "cell_type": "code",
      "execution_count": 2,
      "metadata": {
        "id": "OkNX5B2XOqq8"
      },
      "outputs": [],
      "source": [
        "import os\n",
        "import numpy as np\n",
        "import pandas as pd\n",
        "import tensorflow as tf\n",
        "tf.compat.v1.logging.set_verbosity(tf.compat.v1.logging.ERROR)\n",
        "from tokenizers import BertWordPieceTokenizer\n",
        "from tqdm.notebook import tqdm\n",
        "from tensorflow.keras.layers import Dense, Input\n",
        "from tensorflow.keras.optimizers import Adam\n",
        "from tensorflow.keras.models import Model\n",
        "from tensorflow.keras.callbacks import ModelCheckpoint\n",
        "from tensorflow.keras import backend as K\n",
        "import transformers\n",
        "from transformers import TFAutoModel, AutoTokenizer\n",
        "import matplotlib.pyplot as plt"
      ]
    },
    {
      "cell_type": "code",
      "execution_count": 3,
      "metadata": {
        "id": "CUCjHJIlOqvc",
        "colab": {
          "base_uri": "https://localhost:8080/"
        },
        "outputId": "070e4c71-320d-4c37-86bd-bdddea139cf9"
      },
      "outputs": [
        {
          "output_type": "stream",
          "name": "stdout",
          "text": [
            "Running on TPU  grpc://10.3.175.2:8470\n"
          ]
        }
      ],
      "source": [
        "try:\n",
        "   tpu = tf.distribute.cluster_resolver.TPUClusterResolver()\n",
        "   print('Running on TPU ', tpu.master())\n",
        "except ValueError:\n",
        "   tpu = None\n",
        " \n",
        "if tpu:\n",
        "   tf.config.experimental_connect_to_cluster(tpu)\n",
        "   tf.tpu.experimental.initialize_tpu_system(tpu)\n",
        "   strategy = tf.distribute.TPUStrategy(tpu)\n",
        "else:\n",
        "   strategy = tf.distribute.get_strategy()"
      ]
    },
    {
      "cell_type": "code",
      "execution_count": 4,
      "metadata": {
        "id": "81cJg6hdOqyD"
      },
      "outputs": [],
      "source": [
        "train = pd.read_csv(\"/content/drive/MyDrive/deep-learning-project/tweets.csv\")"
      ]
    },
    {
      "cell_type": "code",
      "execution_count": 5,
      "metadata": {
        "id": "QqNk13aHOq7_"
      },
      "outputs": [],
      "source": [
        "# dropping id, location, keyword column\n",
        "train.drop(['id','location','keyword'],axis=1,inplace=True)"
      ]
    },
    {
      "cell_type": "markdown",
      "source": [
        "**Cleaning Data**"
      ],
      "metadata": {
        "id": "cj0P7hdqUaiy"
      }
    },
    {
      "cell_type": "code",
      "execution_count": 6,
      "metadata": {
        "id": "CaVmwJO1OrAy",
        "colab": {
          "base_uri": "https://localhost:8080/"
        },
        "outputId": "9ca709b4-0160-459e-de82-a684d5b46f85"
      },
      "outputs": [
        {
          "output_type": "stream",
          "name": "stdout",
          "text": [
            "Collecting clean-text[gpl]\n",
            "  Downloading clean_text-0.6.0-py3-none-any.whl (11 kB)\n",
            "Collecting emoji<2.0.0,>=1.0.0\n",
            "  Downloading emoji-1.7.0.tar.gz (175 kB)\n",
            "\u001b[K     |████████████████████████████████| 175 kB 5.4 MB/s \n",
            "\u001b[?25hCollecting ftfy<7.0,>=6.0\n",
            "  Downloading ftfy-6.1.1-py3-none-any.whl (53 kB)\n",
            "\u001b[K     |████████████████████████████████| 53 kB 1.4 MB/s \n",
            "\u001b[?25hCollecting unidecode<2.0.0,>=1.1.1\n",
            "  Downloading Unidecode-1.3.4-py3-none-any.whl (235 kB)\n",
            "\u001b[K     |████████████████████████████████| 235 kB 49.3 MB/s \n",
            "\u001b[?25hRequirement already satisfied: wcwidth>=0.2.5 in /usr/local/lib/python3.7/dist-packages (from ftfy<7.0,>=6.0->clean-text[gpl]) (0.2.5)\n",
            "Building wheels for collected packages: emoji\n",
            "  Building wheel for emoji (setup.py) ... \u001b[?25l\u001b[?25hdone\n",
            "  Created wheel for emoji: filename=emoji-1.7.0-py3-none-any.whl size=171046 sha256=659823a1e29a488f7a89856d447d233a483d9ee4e2b303b50b1207ded31d4896\n",
            "  Stored in directory: /root/.cache/pip/wheels/8a/4e/b6/57b01db010d17ef6ea9b40300af725ef3e210cb1acfb7ac8b6\n",
            "Successfully built emoji\n",
            "Installing collected packages: ftfy, emoji, unidecode, clean-text\n",
            "Successfully installed clean-text-0.6.0 emoji-1.7.0 ftfy-6.1.1 unidecode-1.3.4\n"
          ]
        }
      ],
      "source": [
        "#The tweets may contain urls, numbers, etc which are not useful to us in our model development. The clean-text package allows an easy removal of such items.\n",
        "!pip install clean-text[gpl]\n",
        " \n",
        "from cleantext import clean"
      ]
    },
    {
      "cell_type": "code",
      "execution_count": 7,
      "metadata": {
        "id": "PqelWlkAOrDS"
      },
      "outputs": [],
      "source": [
        "#The clean function has various parameters that help in cleaning the given text in one go\n",
        "def text_cleaning(text):\n",
        "   text=clean(text,\n",
        "     fix_unicode=True,               # fix various unicode errors\n",
        "     to_ascii=True,                 # transliterate to closest ASCII representation\n",
        "     lower=True,                    # lowercase text\n",
        "     no_line_breaks=True,           # fully strip line breaks\n",
        "     no_urls=True,                  # replace all URLs with ''\n",
        "     no_emails=True,                # replace all email addresses with ''\n",
        "     no_phone_numbers=True,         # replace all phone numbers with ''\n",
        "     no_numbers=True,               # replace all numbers with ''\n",
        "     no_digits=True,                # replace all digits with ''\n",
        "     no_currency_symbols=True,      # replace all currency symbols with ''\n",
        "     no_punct=True,                 # fully remove punctuation\n",
        "     replace_with_url=\"\",\n",
        "     replace_with_email=\"\",\n",
        "     replace_with_phone_number=\"\",\n",
        "     replace_with_number=\"\",\n",
        "     replace_with_digit=\"\",\n",
        "     replace_with_currency_symbol=\"\",\n",
        "     lang=\"en\"                      # set to 'en' for English\n",
        "   )\n",
        "   return text"
      ]
    },
    {
      "cell_type": "code",
      "execution_count": 8,
      "metadata": {
        "colab": {
          "base_uri": "https://localhost:8080/"
        },
        "id": "E6tWitolP_yD",
        "outputId": "d4b41b47-b362-43fa-9deb-6b0da7e5b867"
      },
      "outputs": [
        {
          "output_type": "stream",
          "name": "stderr",
          "text": [
            "/usr/local/lib/python3.7/dist-packages/pandas/core/indexing.py:1732: SettingWithCopyWarning: \n",
            "A value is trying to be set on a copy of a slice from a DataFrame\n",
            "\n",
            "See the caveats in the documentation: https://pandas.pydata.org/pandas-docs/stable/user_guide/indexing.html#returning-a-view-versus-a-copy\n",
            "  self._setitem_single_block(indexer, value, name)\n"
          ]
        }
      ],
      "source": [
        "for i in range(len(train)):\n",
        "   train['text'].iloc[i]=text_cleaning(train['text'].iloc[i])"
      ]
    },
    {
      "cell_type": "code",
      "execution_count": 9,
      "metadata": {
        "colab": {
          "base_uri": "https://localhost:8080/"
        },
        "id": "PhcDPoxbP_0b",
        "outputId": "3fda0b3a-d548-4da5-c119-c4278bbc25e3"
      },
      "outputs": [
        {
          "output_type": "stream",
          "name": "stdout",
          "text": [
            "[nltk_data] Downloading package stopwords to /root/nltk_data...\n",
            "[nltk_data]   Unzipping corpora/stopwords.zip.\n"
          ]
        },
        {
          "output_type": "execute_result",
          "data": {
            "text/plain": [
              "True"
            ]
          },
          "metadata": {},
          "execution_count": 9
        }
      ],
      "source": [
        "#Removing Stop Words\n",
        "import nltk\n",
        "from nltk.corpus import stopwords\n",
        "nltk.download('stopwords')"
      ]
    },
    {
      "cell_type": "code",
      "execution_count": 10,
      "metadata": {
        "id": "5b_3mEYgP_2y"
      },
      "outputs": [],
      "source": [
        "stoplist = stopwords.words('english')"
      ]
    },
    {
      "cell_type": "code",
      "execution_count": 11,
      "metadata": {
        "colab": {
          "base_uri": "https://localhost:8080/"
        },
        "id": "N-ec600pOrF0",
        "outputId": "9173d822-a06d-4fe9-a16a-ddebd6e92c79"
      },
      "outputs": [
        {
          "output_type": "stream",
          "name": "stderr",
          "text": [
            "/usr/local/lib/python3.7/dist-packages/pandas/core/indexing.py:1732: SettingWithCopyWarning: \n",
            "A value is trying to be set on a copy of a slice from a DataFrame\n",
            "\n",
            "See the caveats in the documentation: https://pandas.pydata.org/pandas-docs/stable/user_guide/indexing.html#returning-a-view-versus-a-copy\n",
            "  self._setitem_single_block(indexer, value, name)\n"
          ]
        }
      ],
      "source": [
        "for i in range(len(train)):\n",
        "  train['text'].iloc[i] = [word for word in train['text'].iloc[i].split() if word not in stoplist]"
      ]
    },
    {
      "cell_type": "code",
      "execution_count": 12,
      "metadata": {
        "colab": {
          "base_uri": "https://localhost:8080/"
        },
        "id": "7VDHTbK1OrIf",
        "outputId": "0ad99759-043c-4e54-8f75-cd17cd428271"
      },
      "outputs": [
        {
          "output_type": "stream",
          "name": "stdout",
          "text": [
            "0        [communal, violence, bhainsa, telangana, stone...\n",
            "1        [telangana, section, imposed, bhainsa, january...\n",
            "2               [arsonist, sets, cars, ablaze, dealership]\n",
            "3               [arsonist, sets, cars, ablaze, dealership]\n",
            "4        [lord, jesus, love, brings, freedom, pardon, f...\n",
            "                               ...                        \n",
            "11365    [media, warned, us, well, advance, wrecked, wh...\n",
            "11366    [feel, directly, attacked, 💀, consider, moonbi...\n",
            "11367    [feel, directly, attacked, 💀, consider, moonbi...\n",
            "11368    [ok, remember, outcast, nd, dora, au, au, wrec...\n",
            "11369            [jake, corway, wrecked, running, th, irp]\n",
            "Name: text, Length: 11370, dtype: object\n"
          ]
        }
      ],
      "source": [
        "print(train['text'])"
      ]
    },
    {
      "cell_type": "code",
      "execution_count": 13,
      "metadata": {
        "id": "pMLxPG4nQQS0"
      },
      "outputs": [],
      "source": [
        "# empty list for holding words from each row of train['text']\n",
        "#distribution of the most common words found in the tweets\n",
        "text_combined=[]"
      ]
    },
    {
      "cell_type": "code",
      "execution_count": 14,
      "metadata": {
        "id": "-yoDtBKhQQVs"
      },
      "outputs": [],
      "source": [
        "for i in range(len(train)):\n",
        " text_combined.append(train['text'].iloc[i])"
      ]
    },
    {
      "cell_type": "code",
      "execution_count": 15,
      "metadata": {
        "id": "x9qfW1oeQQYD"
      },
      "outputs": [],
      "source": [
        "from itertools import chain\n",
        "flatten_list_text = list(chain.from_iterable(text_combined))"
      ]
    },
    {
      "cell_type": "code",
      "execution_count": 16,
      "metadata": {
        "id": "KrkMFvf7QQaa"
      },
      "outputs": [],
      "source": [
        "import collections\n",
        "word_counters = collections.Counter(flatten_list_text)"
      ]
    },
    {
      "cell_type": "code",
      "execution_count": 17,
      "metadata": {
        "id": "qIGUbB9aQaAq"
      },
      "outputs": [],
      "source": [
        "words_with_counts = pd.DataFrame(word_counters.most_common(15),columns=['words', 'count'])"
      ]
    },
    {
      "cell_type": "code",
      "execution_count": 18,
      "metadata": {
        "colab": {
          "base_uri": "https://localhost:8080/",
          "height": 499
        },
        "id": "85lwjDCKQaDa",
        "outputId": "1f5cbc60-9dcc-4c10-d3ff-2c7077fe27ba"
      },
      "outputs": [
        {
          "output_type": "display_data",
          "data": {
            "text/plain": [
              "<Figure size 576x576 with 1 Axes>"
            ],
            "image/png": "[encoded data removed]"
          },
          "metadata": {
            "needs_background": "light"
          }
        }
      ],
      "source": [
        "fig, ax = plt.subplots(figsize=(8, 8))\n",
        " \n",
        "# Plot horizontal bar graph\n",
        "# plot the frequency distribution after sorting\n",
        "words_with_counts.sort_values(by='count').plot.barh(x='words', y='count',ax=ax,color=\"purple\")\n",
        " \n",
        "ax.set_title(\"Common Words Found in Tweets\")\n",
        " \n",
        "plt.show()"
      ]
    },
    {
      "cell_type": "markdown",
      "source": [
        "**Modeling and Training**"
      ],
      "metadata": {
        "id": "k_W6zjxEYnZO"
      }
    },
    {
      "cell_type": "markdown",
      "source": [
        "**We will write our neural network model where the first layer will be the pre-trained BERT model followed by our own network layers.**"
      ],
      "metadata": {
        "id": "mlbRmRs2aqdG"
      }
    },
    {
      "cell_type": "code",
      "execution_count": 19,
      "metadata": {
        "id": "Vk7_c_eIQaF-"
      },
      "outputs": [],
      "source": [
        "def build_model(transformer, max_len=512):\n",
        "   input_word_ids = Input(shape=(max_len,), dtype=tf.int32, name=\"input_word_ids\")\n",
        "   sequence_output = transformer(input_word_ids)[0]\n",
        "   cls_token = sequence_output[:, 0, :]\n",
        "   x = tf.keras.layers.Dropout(0.35)(cls_token)\n",
        " \n",
        "   # make output dense layer\n",
        "   out = Dense(1, activation='sigmoid')(x)\n",
        "  \n",
        "   model = Model(inputs=input_word_ids, outputs=out)\n",
        "   model.compile(Adam(lr=3e-5), loss='binary_crossentropy',metrics=[tf.keras.metrics.AUC()])\n",
        "  \n",
        "   return model"
      ]
    },
    {
      "cell_type": "markdown",
      "source": [
        "**We use the bert-based-uncased pretrained model and pass it our above written build_model function for constructing our model**"
      ],
      "metadata": {
        "id": "kcQQmhALa1kr"
      }
    },
    {
      "cell_type": "code",
      "execution_count": 20,
      "metadata": {
        "colab": {
          "base_uri": "https://localhost:8080/",
          "height": 222,
          "referenced_widgets": [
            "65ff56a4e537494aa843ee5e815ac7a8",
            "140a25a83063416d8bac9a823e5bb918",
            "4dcdd87e5547480292a888c115ed6180",
            "5b2013d1cec14eafbbb95990263f9ade",
            "15e71dcf2d8a450588ce08f998d5d443",
            "e03ba9f9527f4d76b0619c9c5f97461f",
            "a41a847556f5488b90ce30da5bb8e800",
            "c1161708f5cc46bda5ced0a47e5c76b2",
            "6a0911b4023d4754a58467e9684b1e2a",
            "211b49e4f0e84a11a2c289f9552668e2",
            "a7496ed50cc341188b7d900b801d3a9c",
            "af7ebb5ba0024746b1f0c33aaaef33e1",
            "c5c2e8c22ba247ca8bb2199c4d8f9343",
            "c23d3e2ab3674e8480f98401631983f1",
            "4949720c183d4d67be2be94b62785148",
            "7e87ac4edd4f4c7fab76cd7ddb0ac1be",
            "ca2d0bd076bf483bb6c0c819929a8859",
            "6dcf45305052497ea779f3b9ff89f5e9",
            "7cea9cd6c9bc4c059fe5ac235c7a439b",
            "f6ce020d17b84c03a302aa9d5c97e3ae",
            "0e7b957a0e3f4efcb8941fbe2858b31f",
            "f6fe55ea0d5a47babf9107c0f962dac3"
          ]
        },
        "id": "DXB7D5T2QaIl",
        "outputId": "8ee9beb2-e30d-4681-c673-5f74f242c13f"
      },
      "outputs": [
        {
          "output_type": "display_data",
          "data": {
            "text/plain": [
              "Downloading:   0%|          | 0.00/570 [00:00<?, ?B/s]"
            ],
            "application/vnd.jupyter.widget-view+json": {
              "version_major": 2,
              "version_minor": 0,
              "model_id": "65ff56a4e537494aa843ee5e815ac7a8"
            }
          },
          "metadata": {}
        },
        {
          "output_type": "display_data",
          "data": {
            "text/plain": [
              "Downloading:   0%|          | 0.00/511M [00:00<?, ?B/s]"
            ],
            "application/vnd.jupyter.widget-view+json": {
              "version_major": 2,
              "version_minor": 0,
              "model_id": "af7ebb5ba0024746b1f0c33aaaef33e1"
            }
          },
          "metadata": {}
        },
        {
          "output_type": "stream",
          "name": "stderr",
          "text": [
            "Some layers from the model checkpoint at bert-base-uncased were not used when initializing TFBertModel: ['mlm___cls', 'nsp___cls']\n",
            "- This IS expected if you are initializing TFBertModel from the checkpoint of a model trained on another task or with another architecture (e.g. initializing a BertForSequenceClassification model from a BertForPreTraining model).\n",
            "- This IS NOT expected if you are initializing TFBertModel from the checkpoint of a model that you expect to be exactly identical (initializing a BertForSequenceClassification model from a BertForSequenceClassification model).\n",
            "All the layers of TFBertModel were initialized from the model checkpoint at bert-base-uncased.\n",
            "If your task is similar to the task the model of the checkpoint was trained on, you can already use TFBertModel for predictions without further training.\n",
            "/usr/local/lib/python3.7/dist-packages/keras/optimizer_v2/adam.py:105: UserWarning: The `lr` argument is deprecated, use `learning_rate` instead.\n",
            "  super(Adam, self).__init__(name, **kwargs)\n"
          ]
        }
      ],
      "source": [
        "with strategy.scope():\n",
        "   transformer_layer = transformers.TFBertModel.from_pretrained('bert-base-uncased')\n",
        "   model = build_model(transformer_layer, max_len=512)"
      ]
    },
    {
      "cell_type": "code",
      "execution_count": 21,
      "metadata": {
        "colab": {
          "base_uri": "https://localhost:8080/"
        },
        "id": "Ik2s0MSjQaLX",
        "outputId": "126f94b4-54bc-47fc-9aa3-c7d9821fafc1"
      },
      "outputs": [
        {
          "output_type": "stream",
          "name": "stdout",
          "text": [
            "Model: \"model\"\n",
            "_________________________________________________________________\n",
            " Layer (type)                Output Shape              Param #   \n",
            "=================================================================\n",
            " input_word_ids (InputLayer)  [(None, 512)]            0         \n",
            "                                                                 \n",
            " tf_bert_model (TFBertModel)  TFBaseModelOutputWithPoo  109482240\n",
            "                             lingAndCrossAttentions(l            \n",
            "                             ast_hidden_state=(None,             \n",
            "                             512, 768),                          \n",
            "                              pooler_output=(None, 76            \n",
            "                             8),                                 \n",
            "                              past_key_values=None, h            \n",
            "                             idden_states=None, atten            \n",
            "                             tions=None, cross_attent            \n",
            "                             ions=None)                          \n",
            "                                                                 \n",
            " tf.__operators__.getitem (S  (None, 768)              0         \n",
            " licingOpLambda)                                                 \n",
            "                                                                 \n",
            " dropout_37 (Dropout)        (None, 768)               0         \n",
            "                                                                 \n",
            " dense (Dense)               (None, 1)                 769       \n",
            "                                                                 \n",
            "=================================================================\n",
            "Total params: 109,483,009\n",
            "Trainable params: 109,483,009\n",
            "Non-trainable params: 0\n",
            "_________________________________________________________________\n"
          ]
        }
      ],
      "source": [
        "model.summary()"
      ]
    },
    {
      "cell_type": "markdown",
      "source": [
        "**Data Preprocessing**"
      ],
      "metadata": {
        "id": "FBORLktMbTeC"
      }
    },
    {
      "cell_type": "code",
      "execution_count": 22,
      "metadata": {
        "id": "UIPBm6QvQaNi",
        "colab": {
          "base_uri": "https://localhost:8080/",
          "height": 81,
          "referenced_widgets": [
            "9866d9e7137e49908ce07593975fb365",
            "c15348f2235143d3832280e73b30229a",
            "b7d42dd6a4e14affa1cdeb4ed042164d",
            "1b3059dfc2bf46f5b85340efed32f522",
            "e43f25e46659481e8f35b5dd735771c3",
            "80e31b58aaff454091eb09768ab90bc8",
            "9129555a32e543109baa0d1605fc7b0d",
            "18c9caf5f1bb4e61912e8f93fdaed99b",
            "34bd2678349a4506be6d0ab9b7d205b5",
            "338eb3ca64ad43f5a2e083a819b691dd",
            "e37e8a7f981140ddb932771301262d29",
            "4313bb22516b48e7ba435f8d8eaf574e",
            "63e0f231ac8049af8c177049ef6d8ef3",
            "bbf3db0b68794b0f8a9d2f465b10aaf1",
            "de452024b8514a04aeecb116a62dd10f",
            "6c4370d904c2447f9a5ca0721344ca5c",
            "81e82af329b846dab599c8b1331d5e41",
            "15b78fd3c9e2479fa7874671788ee957",
            "ef6133d0113a4cee8c7dcc3af47ab952",
            "4201282f3c9749be9adad3f2ebb6d268",
            "7c765436233844e1bf7f24a8c7ced263",
            "da886e1b41a44c379130d28c7bbf7ac1"
          ]
        },
        "outputId": "6fe0fe08-30ae-444f-8c4f-0a1d5561bf2f"
      },
      "outputs": [
        {
          "output_type": "display_data",
          "data": {
            "text/plain": [
              "Downloading:   0%|          | 0.00/226k [00:00<?, ?B/s]"
            ],
            "application/vnd.jupyter.widget-view+json": {
              "version_major": 2,
              "version_minor": 0,
              "model_id": "9866d9e7137e49908ce07593975fb365"
            }
          },
          "metadata": {}
        },
        {
          "output_type": "display_data",
          "data": {
            "text/plain": [
              "Downloading:   0%|          | 0.00/28.0 [00:00<?, ?B/s]"
            ],
            "application/vnd.jupyter.widget-view+json": {
              "version_major": 2,
              "version_minor": 0,
              "model_id": "4313bb22516b48e7ba435f8d8eaf574e"
            }
          },
          "metadata": {}
        }
      ],
      "source": [
        "#We first tokenize all our input datasets by using the BERT pre-trained tokenizer.\n",
        "import transformers\n",
        "tokenizer = transformers.BertTokenizer.from_pretrained('bert-base-uncased')"
      ]
    },
    {
      "cell_type": "code",
      "execution_count": 23,
      "metadata": {
        "colab": {
          "base_uri": "https://localhost:8080/"
        },
        "id": "qj6Dd91hQs0z",
        "outputId": "58d3a9f0-e2a3-404c-c938-fa6bfa1de3e2"
      },
      "outputs": [
        {
          "output_type": "execute_result",
          "data": {
            "text/plain": [
              "('distilbert_base_uncased/tokenizer_config.json',\n",
              " 'distilbert_base_uncased/special_tokens_map.json',\n",
              " 'distilbert_base_uncased/vocab.txt',\n",
              " 'distilbert_base_uncased/added_tokens.json')"
            ]
          },
          "metadata": {},
          "execution_count": 23
        }
      ],
      "source": [
        "#Saving the loaded tokenizer to my local environment\n",
        "save_path = 'distilbert_base_uncased/'\n",
        "if not os.path.exists(save_path):\n",
        "   os.makedirs(save_path)\n",
        "tokenizer.save_pretrained(save_path)"
      ]
    },
    {
      "cell_type": "code",
      "execution_count": 24,
      "metadata": {
        "colab": {
          "base_uri": "https://localhost:8080/"
        },
        "id": "kNp-q39VQs3K",
        "outputId": "9422d614-99fb-4ece-89b9-32da1d852d48"
      },
      "outputs": [
        {
          "output_type": "execute_result",
          "data": {
            "text/plain": [
              "Tokenizer(vocabulary_size=30522, model=BertWordPiece, unk_token=[UNK], sep_token=[SEP], cls_token=[CLS], pad_token=[PAD], mask_token=[MASK], clean_text=True, handle_chinese_chars=True, strip_accents=None, lowercase=True, wordpieces_prefix=##)"
            ]
          },
          "metadata": {},
          "execution_count": 24
        }
      ],
      "source": [
        "#Reload the dataset\n",
        "from tokenizers import BertWordPieceTokenizer\n",
        "fast_tokenizer = BertWordPieceTokenizer('distilbert_base_uncased/vocab.txt', lowercase=True)\n",
        "fast_tokenizer"
      ]
    },
    {
      "cell_type": "markdown",
      "source": [
        "**We will be using fast_tokenizer to encode our input.The fast_encode encodes the text to numbers so that it can be used for model training**"
      ],
      "metadata": {
        "id": "WqDx5GdacHAa"
      }
    },
    {
      "cell_type": "code",
      "execution_count": 25,
      "metadata": {
        "id": "73kM7AdtQs5j"
      },
      "outputs": [],
      "source": [
        "def fast_encode(texts, tokenizer, size=256, maxlen=512):\n",
        "   tokenizer.enable_truncation(max_length=maxlen)  # truncate the text and limit it to maxlen\n",
        "   tokenizer.enable_padding(length=maxlen)         # pad sentences shorter than maxlen\n",
        "   ids_full = []\n",
        "  \n",
        "   for i in tqdm(range(0, len(texts), size)):\n",
        "       text = texts[i:i+size].tolist()\n",
        "       encs = tokenizer.encode_batch(text)        \n",
        "       ids_full.extend([enc.ids for enc in encs])\n",
        "  \n",
        "   return np.array(ids_full)"
      ]
    },
    {
      "cell_type": "code",
      "execution_count": 26,
      "metadata": {
        "colab": {
          "base_uri": "https://localhost:8080/",
          "height": 49,
          "referenced_widgets": [
            "cd72b72d8ccd4e6aa6b8d1f42330466a",
            "6e81b84d53b34d7ab5e0b96a50612d92",
            "8ad00c4e912a4c4a9d1e6dcbfc44d3f4",
            "5885a72cdea24667a46156e68f4a2273",
            "ce075f4a11df4fd69aecdacbb936cbd1",
            "16be5846554846b49eed5dd1103945ad",
            "d110bc001f66459fae31ffd80dad5fe3",
            "d63fb0c22c754ae5ae6a02a11b1c75c0",
            "71074ce860c240618986d2cb024bd0a9",
            "0be6614c601f4783854ef5a93eeb2125",
            "5193b057e7e54be4bd352e8e9de9183d"
          ]
        },
        "id": "5q_vU2CmQs70",
        "outputId": "321867ce-4297-4929-f42a-fbbb5012fc6d"
      },
      "outputs": [
        {
          "output_type": "display_data",
          "data": {
            "text/plain": [
              "  0%|          | 0/45 [00:00<?, ?it/s]"
            ],
            "application/vnd.jupyter.widget-view+json": {
              "version_major": 2,
              "version_minor": 0,
              "model_id": "cd72b72d8ccd4e6aa6b8d1f42330466a"
            }
          },
          "metadata": {}
        }
      ],
      "source": [
        "x = fast_encode(train.text.astype(str), fast_tokenizer, maxlen=512)"
      ]
    },
    {
      "cell_type": "markdown",
      "source": [
        "**Preparing Datasets**"
      ],
      "metadata": {
        "id": "2vGeA54bc40-"
      }
    },
    {
      "cell_type": "code",
      "execution_count": 27,
      "metadata": {
        "id": "krvBHzAIQs97"
      },
      "outputs": [],
      "source": [
        "#Creating Batches of Data\n",
        "tf.data.Dataset\n",
        "BATCH_SIZE=64\n",
        "y=train['target'].values"
      ]
    },
    {
      "cell_type": "code",
      "execution_count": 28,
      "metadata": {
        "id": "bh2imLLFQtAj"
      },
      "outputs": [],
      "source": [
        "from sklearn.model_selection import train_test_split\n",
        "X_train, X_test, y_train, y_test = train_test_split(x,y,test_size=0.1, random_state=42)"
      ]
    },
    {
      "cell_type": "code",
      "execution_count": 29,
      "metadata": {
        "id": "lryCtFfyQaQZ"
      },
      "outputs": [],
      "source": [
        "#Creating Training Dataset\n",
        "train_dataset = (\n",
        "   tf.data.Dataset\n",
        "     .from_tensor_slices((X_train, y_train))\n",
        "     .repeat()\n",
        "     .shuffle(2048)\n",
        "     .batch(BATCH_SIZE)\n",
        "   .prefetch(tf.data.experimental.AUTOTUNE)\n",
        ")"
      ]
    },
    {
      "cell_type": "code",
      "execution_count": 30,
      "metadata": {
        "id": "cMG1dywHRGyL"
      },
      "outputs": [],
      "source": [
        "#Creating Test Dataset\n",
        "test_data = (\n",
        "   tf.data.Dataset\n",
        "   .from_tensor_slices(X_test)\n",
        "   .batch(BATCH_SIZE)\n",
        ")"
      ]
    },
    {
      "cell_type": "markdown",
      "source": [
        "**Model Training**"
      ],
      "metadata": {
        "id": "zOEXxMNudxK9"
      }
    },
    {
      "cell_type": "code",
      "execution_count": 31,
      "metadata": {
        "colab": {
          "base_uri": "https://localhost:8080/"
        },
        "id": "aYMJqvY_RIgi",
        "outputId": "b7987dd2-e5f1-472b-e405-04c40e9de7a0"
      },
      "outputs": [
        {
          "output_type": "stream",
          "name": "stdout",
          "text": [
            "Epoch 1/10\n",
            "150/150 [==============================] - 125s 254ms/step - loss: 0.4939 - auc: 0.5292\n",
            "Epoch 2/10\n",
            "150/150 [==============================] - 38s 254ms/step - loss: 0.3242 - auc: 0.8697\n",
            "Epoch 3/10\n",
            "150/150 [==============================] - 38s 254ms/step - loss: 0.2254 - auc: 0.9376\n",
            "Epoch 4/10\n",
            "150/150 [==============================] - 38s 254ms/step - loss: 0.1628 - auc: 0.9677\n",
            "Epoch 5/10\n",
            "150/150 [==============================] - 38s 254ms/step - loss: 0.1028 - auc: 0.9856\n",
            "Epoch 6/10\n",
            "150/150 [==============================] - 38s 254ms/step - loss: 0.0732 - auc: 0.9915\n",
            "Epoch 7/10\n",
            "150/150 [==============================] - 38s 256ms/step - loss: 0.0521 - auc: 0.9939\n",
            "Epoch 8/10\n",
            "150/150 [==============================] - 38s 254ms/step - loss: 0.0441 - auc: 0.9956\n",
            "Epoch 9/10\n",
            "150/150 [==============================] - 38s 254ms/step - loss: 0.0269 - auc: 0.9972\n",
            "Epoch 10/10\n",
            "150/150 [==============================] - 38s 254ms/step - loss: 0.0277 - auc: 0.9978\n"
          ]
        }
      ],
      "source": [
        "#We train the model by calling its fit method. The strategy decides on the distribution strategy on the TPU cluster during training.\n",
        "with strategy.scope():\n",
        "   train_history = model.fit(\n",
        "     train_dataset,\n",
        "     steps_per_epoch=150,\n",
        "     epochs = 10\n",
        "   )"
      ]
    },
    {
      "cell_type": "markdown",
      "source": [
        "**Inference on Test Data**"
      ],
      "metadata": {
        "id": "Pj2zv7R_d-i5"
      }
    },
    {
      "cell_type": "code",
      "execution_count": 32,
      "metadata": {
        "id": "7aDRgT0lRKyy"
      },
      "outputs": [],
      "source": [
        "#Inference on Test Data\n",
        "predictions = model.predict(X_test)"
      ]
    },
    {
      "cell_type": "code",
      "execution_count": 33,
      "metadata": {
        "id": "stZcneNLRK4V"
      },
      "outputs": [],
      "source": [
        "#We flatten the predictions from 2-dim to a 1-dimensional array\n",
        "flattened_predictions = list(chain.from_iterable(predictions))"
      ]
    },
    {
      "cell_type": "code",
      "execution_count": 34,
      "metadata": {
        "id": "caPx3ndZRK7S"
      },
      "outputs": [],
      "source": [
        "for i in range(len(flattened_predictions)):\n",
        " if flattened_predictions[i] <= 0.5:\n",
        "   flattened_predictions[i] = 0\n",
        " else:\n",
        "   flattened_predictions[i] = 1"
      ]
    },
    {
      "cell_type": "code",
      "execution_count": 35,
      "metadata": {
        "colab": {
          "base_uri": "https://localhost:8080/"
        },
        "id": "KQvCD-VvRK-T",
        "outputId": "1e6fc68b-b94e-4568-9be6-fbc3421de66f"
      },
      "outputs": [
        {
          "output_type": "execute_result",
          "data": {
            "text/plain": [
              "[0, 0, 1, 0, 1]"
            ]
          },
          "metadata": {},
          "execution_count": 35
        }
      ],
      "source": [
        "#First Five Predictions\n",
        "flattened_predictions[:5]"
      ]
    },
    {
      "cell_type": "code",
      "execution_count": 36,
      "metadata": {
        "colab": {
          "base_uri": "https://localhost:8080/"
        },
        "id": "oyoD5taIQQc-",
        "outputId": "71af3ff0-a97b-4b08-9e69-2111cb484203"
      },
      "outputs": [
        {
          "output_type": "execute_result",
          "data": {
            "text/plain": [
              "0.9182058047493403"
            ]
          },
          "metadata": {},
          "execution_count": 36
        }
      ],
      "source": [
        "#Accuracy\n",
        "from sklearn.metrics import accuracy_score\n",
        "\n",
        "accuracy_score(y_test, flattened_predictions)"
      ]
    },
    {
      "cell_type": "markdown",
      "metadata": {
        "id": "GljPGTwSsMaf"
      },
      "source": [
        "**LIVE TWEET ANALYSIS**"
      ]
    },
    {
      "cell_type": "code",
      "execution_count": 37,
      "metadata": {
        "id": "LVmKAyEqKRHD"
      },
      "outputs": [],
      "source": [
        "import re\n",
        "import tweepy\n",
        "from tweepy import OAuthHandler\n",
        "from cleantext import clean"
      ]
    },
    {
      "cell_type": "code",
      "execution_count": 38,
      "metadata": {
        "id": "GIMKS01lKRJV"
      },
      "outputs": [],
      "source": [
        "# convert tweet into tokens.\n",
        "#Accepts a tweet text as input and tokenizes its contents using the specified tokenizer.   \n",
        "def convert_lines(tweet, max_seq_length,tokenizer):\n",
        " max_seq_length -=2\n",
        " all_tokens = []\n",
        " \n",
        " tokens_a = tokenizer.tokenize(tweet)\n",
        " if len(tokens_a)>max_seq_length:\n",
        "   tokens_a = tokens_a[:max_seq_length]\n",
        " \n",
        " # remove stopwords\n",
        " from nltk.corpus import stopwords\n",
        " import nltk\n",
        " stoplist = stopwords.words('english')\n",
        " tokens_b = [word for word in tokens_a if not word in stoplist]\n",
        " \n",
        " one_token = tokenizer.convert_tokens_to_ids([\"[CLS]\"]+tokens_b+[\"[SEP]\"])+[0] * (max_seq_length - len(tokens_b))\n",
        " all_tokens.append(one_token)\n",
        " \n",
        " return np.array(all_tokens)\n"
      ]
    },
    {
      "cell_type": "code",
      "execution_count": 39,
      "metadata": {
        "id": "D1_RLxApKRMD"
      },
      "outputs": [],
      "source": [
        "# Function for predicting the contents of a given tweet\n",
        "def predict_disaster(tweet):\n",
        "      \n",
        " maxlen = 512\n",
        " \n",
        " tweet2 = text_cleaning(tweet)\n",
        " \n",
        " token_input2 = convert_lines(tweet2,maxlen,tokenizer)\n",
        " \n",
        " seg_input2 = np.zeros((token_input2.shape[0],maxlen))\n",
        " mask_input2 = np.ones((token_input2.shape[0],maxlen))\n",
        " \n",
        " hehe = model.predict(token_input2,verbose=1,batch_size=32)\n",
        " \n",
        " if hehe <= 0.5:\n",
        "   return 'no disaster'\n",
        " else:\n",
        "   return 'real disaster'"
      ]
    },
    {
      "cell_type": "code",
      "execution_count": 40,
      "metadata": {
        "colab": {
          "base_uri": "https://localhost:8080/"
        },
        "id": "MPDgofwZpZVO",
        "outputId": "ac81bcc9-cc2f-4fa2-e724-03a4b121134d"
      },
      "outputs": [
        {
          "output_type": "stream",
          "name": "stdout",
          "text": [
            "Collecting snscrape\n",
            "  Downloading snscrape-0.3.4-py3-none-any.whl (35 kB)\n",
            "Requirement already satisfied: lxml in /usr/local/lib/python3.7/dist-packages (from snscrape) (4.2.6)\n",
            "Requirement already satisfied: beautifulsoup4 in /usr/local/lib/python3.7/dist-packages (from snscrape) (4.6.3)\n",
            "Requirement already satisfied: requests[socks] in /usr/local/lib/python3.7/dist-packages (from snscrape) (2.23.0)\n",
            "Requirement already satisfied: certifi>=2017.4.17 in /usr/local/lib/python3.7/dist-packages (from requests[socks]->snscrape) (2021.10.8)\n",
            "Requirement already satisfied: urllib3!=1.25.0,!=1.25.1,<1.26,>=1.21.1 in /usr/local/lib/python3.7/dist-packages (from requests[socks]->snscrape) (1.24.3)\n",
            "Requirement already satisfied: idna<3,>=2.5 in /usr/local/lib/python3.7/dist-packages (from requests[socks]->snscrape) (2.10)\n",
            "Requirement already satisfied: chardet<4,>=3.0.2 in /usr/local/lib/python3.7/dist-packages (from requests[socks]->snscrape) (3.0.4)\n",
            "Requirement already satisfied: PySocks!=1.5.7,>=1.5.6 in /usr/local/lib/python3.7/dist-packages (from requests[socks]->snscrape) (1.7.1)\n",
            "Installing collected packages: snscrape\n",
            "Successfully installed snscrape-0.3.4\n"
          ]
        }
      ],
      "source": [
        "!pip install snscrape"
      ]
    },
    {
      "cell_type": "code",
      "execution_count": 41,
      "metadata": {
        "id": "mtpXVvtzXeVe"
      },
      "outputs": [],
      "source": [
        "import snscrape.modules.twitter as sntwitter\n",
        "import pandas as pd"
      ]
    },
    {
      "cell_type": "code",
      "execution_count": 54,
      "metadata": {
        "id": "qGeNJuYkXeYB"
      },
      "outputs": [],
      "source": [
        "#Loading Live Tweets\n",
        "query = \"(crime) lang:en\"\n",
        "tweets = []\n",
        "limit = 200\n",
        "\n",
        "\n",
        "for tweet in sntwitter.TwitterSearchScraper(query).get_items():\n",
        "    \n",
        "    # print(vars(tweet[0]))\n",
        "     #break\n",
        "     if len(tweets) == limit:\n",
        "        break\n",
        "     else:\n",
        "       if tweet.content not in tweets:\n",
        "            tweets.append(tweet.content)\n",
        "    "
      ]
    },
    {
      "cell_type": "code",
      "source": [
        "import itertools\n",
        "pd.DataFrame(itertools.islice(sntwitter.TwitterSearchScraper('query:(crime) lang:en','geolocation: India, 1000km').get_items(), 10))\n"
      ],
      "metadata": {
        "colab": {
          "base_uri": "https://localhost:8080/",
          "height": 635
        },
        "id": "NE5QPryCvHQU",
        "outputId": "50976287-59c8-4f47-e6e2-a0155292449d"
      },
      "execution_count": 43,
      "outputs": [
        {
          "output_type": "execute_result",
          "data": {
            "text/plain": [
              "                                                 url  \\\n",
              "0  https://twitter.com/QueryAlways/status/1522388...   \n",
              "1  https://twitter.com/SINCnational/status/152224...   \n",
              "2  https://twitter.com/vishaldardevkd/status/1522...   \n",
              "3  https://twitter.com/QueryAlways/status/1522182...   \n",
              "4  https://twitter.com/lebed_60/status/1522180790...   \n",
              "5  https://twitter.com/CrimeQuestions/status/1522...   \n",
              "6  https://twitter.com/LAAHelpTeam/status/1522131...   \n",
              "7  https://twitter.com/medronheira/status/1522107...   \n",
              "8  https://twitter.com/PIBMumbai/status/152207294...   \n",
              "9  https://twitter.com/kiplugo1/status/1521963155...   \n",
              "\n",
              "                       date  \\\n",
              "0 2022-05-06 01:30:29+00:00   \n",
              "1 2022-05-05 15:43:57+00:00   \n",
              "2 2022-05-05 13:55:15+00:00   \n",
              "3 2022-05-05 11:54:14+00:00   \n",
              "4 2022-05-05 11:45:55+00:00   \n",
              "5 2022-05-05 10:28:07+00:00   \n",
              "6 2022-05-05 08:30:07+00:00   \n",
              "7 2022-05-05 06:54:32+00:00   \n",
              "8 2022-05-05 04:37:23+00:00   \n",
              "9 2022-05-04 21:21:07+00:00   \n",
              "\n",
              "                                             content                   id  \\\n",
              "0  I don't know Statute of Limitations for falsif...  1522388296474968064   \n",
              "1  COMING SOON!!!\\n\\nFind out how to write a quer...  1522240691107254277   \n",
              "2  @makemytripcare When i asked you it is your se...  1522213335415939074   \n",
              "3  #AmberHeardIsALiar #AmberHeardIsAnAbuser Amber...  1522182880222674944   \n",
              "4  Ministry. Now it is even more dangerous becaus...  1522180790561513472   \n",
              "5  @JHBWater 403681485 Hi. Days ago I filed a que...  1522161208975056896   \n",
              "6  We are online today between 9:30am until 3:00p...  1522131514938597378   \n",
              "7  https://t.co/RkM6zFI3Ek\\nMy query is about USA...  1522107460768743425   \n",
              "8  How safe is it to share personal info online?\\...  1522072944180342786   \n",
              "9  @EnaCoach kindly let the guys on your mbita of...  1521963155437596675   \n",
              "\n",
              "         username                                           outlinks  \\\n",
              "0     QueryAlways  [https://twitter.com/QueryAlways/status/152238...   \n",
              "1    SINCnational           [http://www.sistersincrime.org/webinars]   \n",
              "2  vishaldardevkd                                                 []   \n",
              "3     QueryAlways  [https://twitter.com/jamesydraws/status/152211...   \n",
              "4        lebed_60                                                 []   \n",
              "5  CrimeQuestions                                                 []   \n",
              "6     LAAHelpTeam                                                 []   \n",
              "7     medronheira  [https://en.m.wikipedia.org/wiki/Category:1988...   \n",
              "8       PIBMumbai                      [http://youtu.be/1WLvMDSkArM]   \n",
              "9        kiplugo1                                                 []   \n",
              "\n",
              "                                          outlinksss  \\\n",
              "0  https://twitter.com/QueryAlways/status/1522387...   \n",
              "1             http://www.sistersincrime.org/webinars   \n",
              "2                                                      \n",
              "3  https://twitter.com/jamesydraws/status/1522116...   \n",
              "4                                                      \n",
              "5                                                      \n",
              "6                                                      \n",
              "7  https://en.m.wikipedia.org/wiki/Category:1988_...   \n",
              "8                        http://youtu.be/1WLvMDSkArM   \n",
              "9                                                      \n",
              "\n",
              "                 tcooutlinks            tcooutlinksss  \n",
              "0  [https://t.co/gQb1lY7LWf]  https://t.co/gQb1lY7LWf  \n",
              "1  [https://t.co/x5Fbn4qsyd]  https://t.co/x5Fbn4qsyd  \n",
              "2                         []                           \n",
              "3  [https://t.co/qYUUcxKouJ]  https://t.co/qYUUcxKouJ  \n",
              "4                         []                           \n",
              "5                         []                           \n",
              "6                         []                           \n",
              "7  [https://t.co/RkM6zFI3Ek]  https://t.co/RkM6zFI3Ek  \n",
              "8  [https://t.co/JQRpL8rWSN]  https://t.co/JQRpL8rWSN  \n",
              "9                         []                           "
            ],
            "text/html": [
              "\n",
              "  <div id=\"df-e7e07d38-b4ce-45e1-a422-ab8ee4c4e260\">\n",
              "    <div class=\"colab-df-container\">\n",
              "      <div>\n",
              "<style scoped>\n",
              "    .dataframe tbody tr th:only-of-type {\n",
              "        vertical-align: middle;\n",
              "    }\n",
              "\n",
              "    .dataframe tbody tr th {\n",
              "        vertical-align: top;\n",
              "    }\n",
              "\n",
              "    .dataframe thead th {\n",
              "        text-align: right;\n",
              "    }\n",
              "</style>\n",
              "<table border=\"1\" class=\"dataframe\">\n",
              "  <thead>\n",
              "    <tr style=\"text-align: right;\">\n",
              "      <th></th>\n",
              "      <th>url</th>\n",
              "      <th>date</th>\n",
              "      <th>content</th>\n",
              "      <th>id</th>\n",
              "      <th>username</th>\n",
              "      <th>outlinks</th>\n",
              "      <th>outlinksss</th>\n",
              "      <th>tcooutlinks</th>\n",
              "      <th>tcooutlinksss</th>\n",
              "    </tr>\n",
              "  </thead>\n",
              "  <tbody>\n",
              "    <tr>\n",
              "      <th>0</th>\n",
              "      <td>https://twitter.com/QueryAlways/status/1522388...</td>\n",
              "      <td>2022-05-06 01:30:29+00:00</td>\n",
              "      <td>I don't know Statute of Limitations for falsif...</td>\n",
              "      <td>1522388296474968064</td>\n",
              "      <td>QueryAlways</td>\n",
              "      <td>[https://twitter.com/QueryAlways/status/152238...</td>\n",
              "      <td>https://twitter.com/QueryAlways/status/1522387...</td>\n",
              "      <td>[https://t.co/gQb1lY7LWf]</td>\n",
              "      <td>https://t.co/gQb1lY7LWf</td>\n",
              "    </tr>\n",
              "    <tr>\n",
              "      <th>1</th>\n",
              "      <td>https://twitter.com/SINCnational/status/152224...</td>\n",
              "      <td>2022-05-05 15:43:57+00:00</td>\n",
              "      <td>COMING SOON!!!\\n\\nFind out how to write a quer...</td>\n",
              "      <td>1522240691107254277</td>\n",
              "      <td>SINCnational</td>\n",
              "      <td>[http://www.sistersincrime.org/webinars]</td>\n",
              "      <td>http://www.sistersincrime.org/webinars</td>\n",
              "      <td>[https://t.co/x5Fbn4qsyd]</td>\n",
              "      <td>https://t.co/x5Fbn4qsyd</td>\n",
              "    </tr>\n",
              "    <tr>\n",
              "      <th>2</th>\n",
              "      <td>https://twitter.com/vishaldardevkd/status/1522...</td>\n",
              "      <td>2022-05-05 13:55:15+00:00</td>\n",
              "      <td>@makemytripcare When i asked you it is your se...</td>\n",
              "      <td>1522213335415939074</td>\n",
              "      <td>vishaldardevkd</td>\n",
              "      <td>[]</td>\n",
              "      <td></td>\n",
              "      <td>[]</td>\n",
              "      <td></td>\n",
              "    </tr>\n",
              "    <tr>\n",
              "      <th>3</th>\n",
              "      <td>https://twitter.com/QueryAlways/status/1522182...</td>\n",
              "      <td>2022-05-05 11:54:14+00:00</td>\n",
              "      <td>#AmberHeardIsALiar #AmberHeardIsAnAbuser Amber...</td>\n",
              "      <td>1522182880222674944</td>\n",
              "      <td>QueryAlways</td>\n",
              "      <td>[https://twitter.com/jamesydraws/status/152211...</td>\n",
              "      <td>https://twitter.com/jamesydraws/status/1522116...</td>\n",
              "      <td>[https://t.co/qYUUcxKouJ]</td>\n",
              "      <td>https://t.co/qYUUcxKouJ</td>\n",
              "    </tr>\n",
              "    <tr>\n",
              "      <th>4</th>\n",
              "      <td>https://twitter.com/lebed_60/status/1522180790...</td>\n",
              "      <td>2022-05-05 11:45:55+00:00</td>\n",
              "      <td>Ministry. Now it is even more dangerous becaus...</td>\n",
              "      <td>1522180790561513472</td>\n",
              "      <td>lebed_60</td>\n",
              "      <td>[]</td>\n",
              "      <td></td>\n",
              "      <td>[]</td>\n",
              "      <td></td>\n",
              "    </tr>\n",
              "    <tr>\n",
              "      <th>5</th>\n",
              "      <td>https://twitter.com/CrimeQuestions/status/1522...</td>\n",
              "      <td>2022-05-05 10:28:07+00:00</td>\n",
              "      <td>@JHBWater 403681485 Hi. Days ago I filed a que...</td>\n",
              "      <td>1522161208975056896</td>\n",
              "      <td>CrimeQuestions</td>\n",
              "      <td>[]</td>\n",
              "      <td></td>\n",
              "      <td>[]</td>\n",
              "      <td></td>\n",
              "    </tr>\n",
              "    <tr>\n",
              "      <th>6</th>\n",
              "      <td>https://twitter.com/LAAHelpTeam/status/1522131...</td>\n",
              "      <td>2022-05-05 08:30:07+00:00</td>\n",
              "      <td>We are online today between 9:30am until 3:00p...</td>\n",
              "      <td>1522131514938597378</td>\n",
              "      <td>LAAHelpTeam</td>\n",
              "      <td>[]</td>\n",
              "      <td></td>\n",
              "      <td>[]</td>\n",
              "      <td></td>\n",
              "    </tr>\n",
              "    <tr>\n",
              "      <th>7</th>\n",
              "      <td>https://twitter.com/medronheira/status/1522107...</td>\n",
              "      <td>2022-05-05 06:54:32+00:00</td>\n",
              "      <td>https://t.co/RkM6zFI3Ek\\nMy query is about USA...</td>\n",
              "      <td>1522107460768743425</td>\n",
              "      <td>medronheira</td>\n",
              "      <td>[https://en.m.wikipedia.org/wiki/Category:1988...</td>\n",
              "      <td>https://en.m.wikipedia.org/wiki/Category:1988_...</td>\n",
              "      <td>[https://t.co/RkM6zFI3Ek]</td>\n",
              "      <td>https://t.co/RkM6zFI3Ek</td>\n",
              "    </tr>\n",
              "    <tr>\n",
              "      <th>8</th>\n",
              "      <td>https://twitter.com/PIBMumbai/status/152207294...</td>\n",
              "      <td>2022-05-05 04:37:23+00:00</td>\n",
              "      <td>How safe is it to share personal info online?\\...</td>\n",
              "      <td>1522072944180342786</td>\n",
              "      <td>PIBMumbai</td>\n",
              "      <td>[http://youtu.be/1WLvMDSkArM]</td>\n",
              "      <td>http://youtu.be/1WLvMDSkArM</td>\n",
              "      <td>[https://t.co/JQRpL8rWSN]</td>\n",
              "      <td>https://t.co/JQRpL8rWSN</td>\n",
              "    </tr>\n",
              "    <tr>\n",
              "      <th>9</th>\n",
              "      <td>https://twitter.com/kiplugo1/status/1521963155...</td>\n",
              "      <td>2022-05-04 21:21:07+00:00</td>\n",
              "      <td>@EnaCoach kindly let the guys on your mbita of...</td>\n",
              "      <td>1521963155437596675</td>\n",
              "      <td>kiplugo1</td>\n",
              "      <td>[]</td>\n",
              "      <td></td>\n",
              "      <td>[]</td>\n",
              "      <td></td>\n",
              "    </tr>\n",
              "  </tbody>\n",
              "</table>\n",
              "</div>\n",
              "      <button class=\"colab-df-convert\" onclick=\"convertToInteractive('df-e7e07d38-b4ce-45e1-a422-ab8ee4c4e260')\"\n",
              "              title=\"Convert this dataframe to an interactive table.\"\n",
              "              style=\"display:none;\">\n",
              "        \n",
              "  <svg xmlns=\"http://www.w3.org/2000/svg\" height=\"24px\"viewBox=\"0 0 24 24\"\n",
              "       width=\"24px\">\n",
              "    <path d=\"M0 0h24v24H0V0z\" fill=\"none\"/>\n",
              "    <path d=\"M18.56 5.44l.94 2.06.94-2.06 2.06-.94-2.06-.94-.94-2.06-.94 2.06-2.06.94zm-11 1L8.5 8.5l.94-2.06 2.06-.94-2.06-.94L8.5 2.5l-.94 2.06-2.06.94zm10 10l.94 2.06.94-2.06 2.06-.94-2.06-.94-.94-2.06-.94 2.06-2.06.94z\"/><path d=\"M17.41 7.96l-1.37-1.37c-.4-.4-.92-.59-1.43-.59-.52 0-1.04.2-1.43.59L10.3 9.45l-7.72 7.72c-.78.78-.78 2.05 0 2.83L4 21.41c.39.39.9.59 1.41.59.51 0 1.02-.2 1.41-.59l7.78-7.78 2.81-2.81c.8-.78.8-2.07 0-2.86zM5.41 20L4 18.59l7.72-7.72 1.47 1.35L5.41 20z\"/>\n",
              "  </svg>\n",
              "      </button>\n",
              "      \n",
              "  <style>\n",
              "    .colab-df-container {\n",
              "      display:flex;\n",
              "      flex-wrap:wrap;\n",
              "      gap: 12px;\n",
              "    }\n",
              "\n",
              "    .colab-df-convert {\n",
              "      background-color: #E8F0FE;\n",
              "      border: none;\n",
              "      border-radius: 50%;\n",
              "      cursor: pointer;\n",
              "      display: none;\n",
              "      fill: #1967D2;\n",
              "      height: 32px;\n",
              "      padding: 0 0 0 0;\n",
              "      width: 32px;\n",
              "    }\n",
              "\n",
              "    .colab-df-convert:hover {\n",
              "      background-color: #E2EBFA;\n",
              "      box-shadow: 0px 1px 2px rgba(60, 64, 67, 0.3), 0px 1px 3px 1px rgba(60, 64, 67, 0.15);\n",
              "      fill: #174EA6;\n",
              "    }\n",
              "\n",
              "    [theme=dark] .colab-df-convert {\n",
              "      background-color: #3B4455;\n",
              "      fill: #D2E3FC;\n",
              "    }\n",
              "\n",
              "    [theme=dark] .colab-df-convert:hover {\n",
              "      background-color: #434B5C;\n",
              "      box-shadow: 0px 1px 3px 1px rgba(0, 0, 0, 0.15);\n",
              "      filter: drop-shadow(0px 1px 2px rgba(0, 0, 0, 0.3));\n",
              "      fill: #FFFFFF;\n",
              "    }\n",
              "  </style>\n",
              "\n",
              "      <script>\n",
              "        const buttonEl =\n",
              "          document.querySelector('#df-e7e07d38-b4ce-45e1-a422-ab8ee4c4e260 button.colab-df-convert');\n",
              "        buttonEl.style.display =\n",
              "          google.colab.kernel.accessAllowed ? 'block' : 'none';\n",
              "\n",
              "        async function convertToInteractive(key) {\n",
              "          const element = document.querySelector('#df-e7e07d38-b4ce-45e1-a422-ab8ee4c4e260');\n",
              "          const dataTable =\n",
              "            await google.colab.kernel.invokeFunction('convertToInteractive',\n",
              "                                                     [key], {});\n",
              "          if (!dataTable) return;\n",
              "\n",
              "          const docLinkHtml = 'Like what you see? Visit the ' +\n",
              "            '<a target=\"_blank\" href=https://colab.research.google.com/notebooks/data_table.ipynb>data table notebook</a>'\n",
              "            + ' to learn more about interactive tables.';\n",
              "          element.innerHTML = '';\n",
              "          dataTable['output_type'] = 'display_data';\n",
              "          await google.colab.output.renderOutput(dataTable, element);\n",
              "          const docLink = document.createElement('div');\n",
              "          docLink.innerHTML = docLinkHtml;\n",
              "          element.appendChild(docLink);\n",
              "        }\n",
              "      </script>\n",
              "    </div>\n",
              "  </div>\n",
              "  "
            ]
          },
          "metadata": {},
          "execution_count": 43
        }
      ]
    },
    {
      "cell_type": "code",
      "execution_count": 55,
      "metadata": {
        "colab": {
          "base_uri": "https://localhost:8080/"
        },
        "id": "0ict5dloXeaq",
        "outputId": "aac0e2d0-f30b-4933-dcf5-5909fed03eae"
      },
      "outputs": [
        {
          "output_type": "stream",
          "name": "stdout",
          "text": [
            "[\"@ela1949 2 inbred pieces of vermin, hope that once captured they receive unimaginably painful justice for their crimes.\\n\\nWhy Israel does not mass deport large numbers of these animals I just don't understand, along with wiping off the map the entire hamas leadership supporting these acts.\", '@RedGlar9 @MJB24681 @TetraQammon @SouthTownKing @Bigteethyouhave @drdeblk @LifeNyc2 @ThePatriotPar15 @Synyster63 @428Panda @RoyU812 @TrumpLOST5 @_Project1000 @MattDelier @DonaldJsTrumps @BadgerinFlorida @BigBluHeart67 @BrandonPutin @RealDoctorT @huskygal19 @BsSlayah @UseLogicPlease1 @BDonedat @LibsAreSoDumb @theresamtequil1 @chriscr66024638 @michellmybell1 @McmastersMoose @egosempertecum1 @TragicEra @prynne_hyster @GrieveNSpin @emmanue00857463 @TomDoubting @SpongebobBirth @neville1776 @jefftheessene @LadyOfTheOcean1 @nevacomplyagain @CMcfunster @blondjewels @VeryDamagdGoods @Pittsburgbitch @Jetson77 @fvckbootlickers @IanIsNotMyName @AlphasGhost @FECKFECK611 @TheEndTimes__ @DennyGr28530407 “…there is evidence of the biden crime families corruption…”\\nNope! 😂😂😂', \"@ObaidullaBaheer You don't want to be the only one accepting blame publicly for your side, ok, but you have a good relationship with him, how do you not just hate the man who did the stuff he did. \\n\\nIs lack of fair accountability why his crimes don't bother you personally?\", 'Why crime keeps going up🤔🙄 https://t.co/m3cwudc5ck', '@RepTedLieu Good luck to all these small business as they try to survive growing inflation, gas prices hikes, a looming recession, and crimes and robberies that never get prosecuted! Great work here Democrats!', '@StoriesSandman @DrAshleyWellman Right? My thoughts exactly lol', 'Yeah they went on to give it to Bob Dylan and deprive Borges of it but those egregious crimes hardly mean the hairy footed garden gnome legandier should’ve been presented with one https://t.co/ycYBvK0MUF', '“… ‘Two treatises by Sir Matthew Hale,’ #Alito wrote in his argument to end legal abortion across America, ‘described abortion of a #quick child who died in the womb as a ‘great crime’ and a ‘great misprision.’ See M. Hale, Pleas of the Crown.’”\\n\\nhttps://t.co/aoXkuUDyzN https://t.co/D1EvCpst82', '@fIoralmads favourite crime is mine and mine alone', 'the wilds s2 coming out graduation weekend when i work at a popular upscale restaurant in a college town is a hate crime', 'Got bored at work again ( ˙▿˙ ) I just want to go home and hug my dog\\n#doodle #AnimeArt #oc #ocart #BoredAtWork https://t.co/HWg0CxIq8S', 'wearing my $75 pleasing tshirt to bed feels like a crime', '@ThePakAmerican 7 million pounds of Pakistanis Tax payers spent on this BS by crime minister .', '@Alkan_Yusuf_ @Zeyni47mer @Twitter  Stop Terror Propaganda !\\n\\nThis is propaganda of a group of people that recognized as an international TERRORist group.\\nthey are committing crimes against humanity and using child warriors !\\n\\n#TwitterStopTerrorPropaganda\\n@istanbul_EGM @SiberayEGM \\nhttps://t.co/wXJgLjVaxh', '@fmtoday Only 3 dead in Israel and US calls it a terrorist attack? These terrorist truly failed terribly at the job 🤣🤣🤣 They should learn from Israel, systemically oppress and genocide upon Palestinians and most importantly justifying the evil crime and legally getting away with it!', '@MMRahman0105 @KTRTRS @mahmoodalitrs @TelanganaDGP @RachakondaCop Law is harshiest, will you bring back life of deceased, if not how can one commit such crime of killing. If same thing happens in Dubai what is the punishment given? I think you know better than me .', '@StrictManager He bristled more, eyes flaring, before growling out. Now he knew who she sounded like... fuck...\\n\\nShe sounded like COUNT. The one animatronic he genuinely hated..\\n\\n\"....selflessness ain\\'t weak...OR a crime. If anythin\\', it makes her human! Somethin ya don\\'t undastand apparently!\"', '@NotLarrayy_ @ItsAll_Bullshit Insane that someone would have the confidence to record themselves making the food equivalent of a hate crime', 'Putin knows Joe Biden stole the election from Trump. He knows all about the Biden Crime Family and their dirty dealings. He knows who bought him and who owns him .', '@stedeapologist the punishment fits the crime tbh', 'He will be used to justify crimes and defend impunity. Ruto is bad news...\\n#MwiziNiMwiziTu https://t.co/wCA26jM0ap', \"@areufingkiddgme @mika6sic6 @CBSLA More often than not, it's not a crime to run over kids with your car.\", '#BJP state wide protests against crimes against #women. #UAnow #Vizag https://t.co/ErHn60gosl', 'Abortion is no longer a crime in Australia. So why is it still so hard to access? https://t.co/vNbEunaxqq via @ConversationEDU', \"people naming themselves literal crimes now like arson so i'm gonna call myself dd, or double d. short for distracted driving\", '$300M luxury yacht owned by oligarch seized in #Fiji - May 6 @ 12:14 AM ET https://t.co/zjI5g7S0xb', '@erickam @OccupyDemocrats What crime? The crime of talking?', '@Amy_Siskind What it says about our judiciary is that they bow to outside pressure and sell their opinions. What it says about the confirmation process is that it needs to be reformed. For 83 viable ethics complaints against a nominee and have a partisan dismissal of those charges is a crime.', 'Today’s @gop, folks. Immoral. Ignorant. Incompetent. Herewith,  Stephen Miller’s war crime wet dream. #HallOfShame https://t.co/MiEEpo7XF4', '@yula80968563 @avalaina How did you know she will be in heaven? You must live a holy life to make it to heaven. Violence is from the Satan and God never ask us to commit crime, God is against war . Jesus Christ is the God of peace, so I suggest your leader Zelensky make peace with Putin to save lives.', \"Just so we're clear: I know murder is a crime so I wouldn't actually want the loml to go on a killing spree to save me if I'm dying \\n\\nBuuut it would be nice to be with someone who says they can't live without me\", 'Lying to an employee of the Alabama Ethics Commission is a crime. Let that one sink in.\\nhttps://t.co/f5oKpwZJP4', \"@PIP_Officials @Sidrah_Jilani After reading this text my soul is grued and then I realised we are not free in our own country. Blush fully I am texted we can't nothing because in our country every thing sell. Just we raise hands against crime\", '@k33p_it_will24 @niggaspiritual @nataleebfitness Sirrr do you understand how many men would really be in jail if all sexual crimes that are reported are taken seriously and actually results in an arrest? Mind the business that pays you.', \"@KvanOosterom @ambtstirumurti @MEAIndia @AmbVMKwatra @DrSJaishankar @M_Lekhi @MOS_MEA @RanjanRajkuma11 @SanjayVermalFS ROFL, self-serving diplomats of selfish nations preaching virtue \\U0001f971 Dutch fled Kabul, abandoning local embassy staff in Kabul without even informing them 😶 NATO countries should be prosecuted for war crimes so they don't go around doling out advice beyond their means/beliefs 😳 https://t.co/aGwBNIByp6\", 'Spooge reappearing and him looking quite Swanky was one of the most surprising callbacks to future events, I don\\'t think he\\'s part of the Salamanca family but might\\'ve been \"recruited\" as an over-the-border confidant in crime by keeping in touch with Saul', \"@patc1 @brndpete @NoGunsInCanada Only if it's used in a crime or for hunting. And the same goes for the car too\", '@edsbs In the 12th century a big portion of the English royal family including the crown prince drowned when a party boat sunk, they only kept the throne because one nephew had vicious diarrhea and had to stay in that night', 'I wanna go down ad a true crime story. Or juts those people talk about something horrible happened to this person type thing.', '@Kserasera3 @clairecmc @Jmf134Jeff Yes, I’m sure these stupid men have no idea how prevalent miscarriages are and how devastating they are to the woman…then they have to worry about being charged with a crime.  BS.', '@kanchana_wij Why the hell dod you give the 2nd contract to the same contractor who didn’t get the plant properly installed and working - It is always breakdown!! This company is black listed - This is a heinous crime against your own people -', 'CLINTON CRIME WAVE UPDATE: \\n\\nClinton cabal argues the Judge can\\'t see the documents to determine if they fall under attorney client privilege. Like when they sued Wikileaks. \\n\\n\"Democrats FIGHT DISCLOSURE of Documents in DURHAM PROSECUTION Oral Arguments\" https://t.co/3RuL76hqeJ https://t.co/cKAN7G8poh', \"It's a global crime against humanity https://t.co/wZjmPp35nH\", 'Louisiana Legislators Pass Bill Making Abortion a Homicide\\xa0Crime https://t.co/afboQ5pcz2', '@tedcruz Is that not a crime? Inciting violence and threatening?', '@iamabayorr The more you read, one can’t help but think that apartheid was the softest of the crimes committed by the white man! Absolutely horrific.', 'Holy crime batman. https://t.co/XIx7tePhLo', '// multiverse of madness spoilers \\n\\nme in the theatre watching wanda maximoff commit heinous crimes leaving extreme carnage https://t.co/3EwkHq6Lhy', 'The former Chief Financial Officer at Collins Chabane Municipality in the Vhembe District in Limpopo, is expected to appear at the Palm Ridge Commercial Crimes Court, east of Johannesburg this morning. #sabcnews', \"Justice For Christy Shelton\\nCheck out Grizzly True Crime's video! #TikTok https://t.co/WNvNDn8JBq\\n#grizzlytruecrime #justiceforchristyshelton #CaseyWhite\", \"We haven't even talked about the whole crime boss thing and this is already longer than I had planned \\U0001fae0)\", 'Where to Find the Best Online Detective Forums (and Help Solve Real Crimes) #truecrime #unsolved https://t.co/tynAFGEDXt', '@darrengrimes_ What sort of people release a monster who tortured and murdered a baby? its time to bring back something that was banned for the worst crimes against children.', '@2AmedDeniz @Zeyni47mer @Twitter  Stop Terror Propaganda !\\n\\nThis is propaganda of a group of people that recognized as an international TERRORist group.\\nthey are committing crimes against humanity and using child warriors !\\n\\n#TwitterStopTerrorPropaganda\\n@istanbul_EGM @SiberayEGM \\nhttps://t.co/wXJgLjVaxh', 'Delhi is increasingly reporting crimes inside/outside schools. Now, two 8-year-old girls have been molested inside their classroom by an unknown person at a Delhi school. The man removed the clothes of the girls, he then removed his clothes and urinated in front of the class.', '@3DoBetter3 @MandyConnell The Antifa crimes were real and were prosecuted. The system usually works…', 'This Mental Health Awareness month, take some time to prioritize you and your mental health. Here’s a guide with some ways that you can boost your mind and mental health this month. https://t.co/5jjnrjMXwD', 'The Mandel effect: watching Beetlejuice. Why did I think they had dramatically driven off a cliff rather than slowly dip into the river?', '@GOPChairwoman Yeah……🙄😏\\n\\nCause that should be the issue instead of the international crime of FORCED BIRTH and letting women die. \\n\\nThanks for letting us know where we stand.', \"Why they didn't locked the crime spot\\n@PMOIndia  @DoPTGoI \\nMumbai Police Role In SSR Case\", '@gyrosbear You got your ruroni kenshin, act age writer, galko, and toriko creators, whove been arrested for a range of actual child sex crimes. I would hope people wouldnt be cool with them.', 'He real life played with them all and laughed after. How the fk do you allow a man like this be his own attorney. They real life let this man question an officer that was at a crime scene. When he knew Wtf he did… 🤯 https://t.co/bRAv452NEI', \"was going to do a late night stream but ive decided not to because im currently cycling through a true crime binge and can't pull myself away. i hope you can understand at this trying time /s have a good and safe night!! 😴💚\", '@MJB24681 @TetraQammon @SouthTownKing @Bigteethyouhave @drdeblk @LifeNyc2 @ThePatriotPar15 @PRM13001813 @Synyster63 @428Panda @RoyU812 @TrumpLOST5 @_Project1000 @MattDelier @DonaldJsTrumps @BadgerinFlorida @BigBluHeart67 @BrandonPutin @RealDoctorT @huskygal19 @BsSlayah @UseLogicPlease1 @BDonedat @LibsAreSoDumb @theresamtequil1 @chriscr66024638 @michellmybell1 @McmastersMoose @egosempertecum1 @TragicEra @prynne_hyster @GrieveNSpin @emmanue00857463 @TomDoubting @SpongebobBirth @neville1776 @jefftheessene @LadyOfTheOcean1 @nevacomplyagain @CMcfunster @blondjewels @VeryDamagdGoods @Pittsburgbitch @Jetson77 @fvckbootlickers @IanIsNotMyName @AlphasGhost @FECKFECK611 @TheEndTimes__ @DennyGr28530407 well seeing as how there is evidence of the biden crime families corruption and none of what you speak of about the Trumps i will continue to laugh at your hypocrisy', '⠀\\n\\n⠀⠀⠀ #𝒮҉҉ 𝔦𝔫𝔫ч —— it really depends. Like the punishment fits the crime. 😅\\n⠀⠀⠀\\n⠀⠀', 'mercari seller not shipping my tzuyu slogan in time is a hate crime', 'It’s finally out!!\\n\\nGo check my band @ArmagideonRVA debut EP:\\n\\nCRIME AS THEATRE\\n\\nhttps://t.co/b1IFQAcooW', '@Thesoot_ IVE BEEN THROWING HIM AROUND MY BRAIN SINCE 2019 HES MY LITTLE CREATURE THAT IVE PUT IN AN EXCLOSURE', \"@HeidiGiokos The problem again is you media. You don't use the same method as u use when discrediting SA citizens when they cry about illegal immigrants,crime and corruption towards anc government. You only speak briefly about how government fails. We need u to talk about it everyday\", \"@rhonda_harbison @Karls_Quest @marcorubio That's literally every state.. liberal states are the highest taxed, lowest paid, highest cost of living, worst infrastructure, most policed, highest crime rate, fascist states in the coutry.. and you're gonna act like Florida having broke ppl isn't everywhere. Blame the corps.\", '@1NewsNZ Yet unvaccinated people can now enter NZ, roam around the country without restrictions......  Someone pls ask the govt how they can turn a blind eye to the rise in daily crime and NOT do a thing about it but nail unvaccinated drs (who this country needs) treating patients.', '@globaltimesnews @RDCYINST CCP way of “Seeking Peace” is via announcing unlimited strategic partnership with Putin 20 days prior to Putin invasion of 🇺🇦; refusing to condemn war crimes committed by Putin invaders in 🇺🇦; assisting 🇷🇺 to evade sanctions. Now the world knows CCP way of “Seeking Peace”.', \"Hindu Man publicly killed In Hyderabad by Muslim Wife's Family.\\n\\nFor 2 reasons:\\n1. He is a Hindu Dalit\\n2. The marriage was in Hindu way.\\n\\nThe State Government is failing to bring Social Justice to this hate crime. \\n\\n #JusticeForNagaraju\", 'can we also talk about how this love makes a reference to the only other song already released from 1989 tv?!?! https://t.co/Ku5Lw17nBy', '@SPUMONI_SPUMONI @joerogan Some other states have a crime called \"aggravated assault\" which could include assault with the \"mens rea\" to cause GBI - but California does not.', \"Arnab Calls Out US Hypocrisy &amp; War Crimes: 'They Form &amp; Abandon Alliances As Per Convenience' | @scoopit https://t.co/g1BSSSpXqQ\", '[CAR CRASH] [GLASS SHATTERING] “GOOD LORD” [GENERAL COMMOTION] [BABY CRYING] “WAAAHHH WAHHH” [YELLING] “DAMN BITCH SHUT DAT DAMN BABY UP” [POLICE SIRENS] WEE WOOO WEE WOOOO [HELICOPTERS] “WE’RE REPORTING LIVE FROM THE CRIME SCENE-“ [EXPLOSION] “MY LEG!!!” https://t.co/YZngb6ElMn', '@Iamjusthonest_ @JustAdamTroy @MaxTutelage @Rjinswand @your_mom101000 All youve done since you got here is defect the fact your claimed globe model has zero scientific proof. Lmao', 'THE ANDERSON TAPES - Douglas Skelton talks to Lin Anderson about lockdown, crime writing, the Bloody Scotland book festival, dog detectives, and exploding heads!!! https://t.co/xuGo3VUt1S  #Thriller #CrimeFiction #LinAnderson #Lockdown https://t.co/fv9cm95RQr', 'it would be a crime not to share this here T_T\\nhttps://t.co/hmrUqqR84H', \"@ABCWorldNews @rachelvscott Dem politicians and influencers whipping up violent protesters and threatening the court when they have not even released their final decision: It's Treason actually and a whole number of other crimes as well. A true insurrection.\", '@OccupyDemocrats Wouldn’t mind a drug lab or two being destroyed. Fentanyl is an epidemic in the US. Almost 100,000 overdose deaths per year in the US. Doesn’t include the effects on families and crime. Cartels pushing drugs here is an act of war IMO', '@Canadia56668243 That’s not enough! Crimes Against Humanity!', 'I WANT TO BE A XXXX\\nRED BOX LOGO Tシャツ White\\nhttps://t.co/98SeLTEd0Z', '@TGrammie2 Not even close… high crime, record inflation, imminent recession, foreign policy disasters, open border for illegal immigration, fentanyl, and human trafficking, CRT, dividing Americans, and losing our energy independence. Horrible!!', \"It's baptism by fire for new police chief Jack Collins as he searches for the killer of a young girl... #Mystery #Mysteries #Crime #Suspense #WomensFiction #CrimeFiction #grief #kindle #FamilyDrama  #ASMSG #BYNR #MustReads #MysteryForYou #LiteraturePosts https://t.co/Z361R7J1Ql https://t.co/pfbJWOY3zo\", '@Angelo4justice3 I was one of the US officers in Iraq with the Intl investigations team. No WMD evidence of chemical weapons though. I have been going to Ukraine for some time over the years Ukrainians with family of Russian ethnicity were being targeted and gruesome crimes being committed. 😐', '@voguemagazine @billieeilish Stop whisperingat me billie', 'Dem seh dem a do crime and everything dem chat.', 'US lawmakers welcomed notorious Georgian warlord now boasting of war crimes in Ukraine https://t.co/C6wHSJ0BJZ via @TheGrayzoneNews', '@NoLieWithBTC Top 3 stste in domestic violence, poverty, crime. What could go wrong ?', \"@CT_Traitor Hmm. Well. I'm helping Dogma shuffle around the GAR. Why do one crime, when I can do two, I guess. I can help get you shifted to another Battalion. One where no one knows you. Fresh start, you know?\", \"@AmberMMedina1 @cupcakeboner @NBCNews No. You can't. It will likely lead to like I said, a black baby boom and in turn a massive crime boom in a decade or two. \\n\\nI still don't think a child should die/not have a chance at life because they have shit or poor parents.\", '@henryjwallis @RachelEnders3 All crimes and injustices have been around for a very long time. The claim is that making abortion illegal leads to substantially fewer abortions.', '@HDFC_Bank missed call balance service has been deactivated with advise to use Internet banking promoting cyber crime for which HDFC  bank takes no responsibility SENIOR citizens without computer knowledge are warned not to open account in HDFC BANK', 'T*mmy m*tola WILL pay for his crimes -_-  #MCDeepCuts', '@voguemagazine @billieeilish Whisper music. Its worse than mumble rap. Sing already god damn. Its asmr music. How is she famous?', '@BurnettRM Yep! The folder says 1996 (I think), but still… wtf does that even mean? Just stupid.', 'always a filo in the crime scene', '@Taheri_Movement Crime is not just about killing the body physically through various forms of torture and execution\\n The gradual and silent death of a pregnant woman is also in prison\\n  #سعدا_خدیرزاده\\n#SaadaKhadirZadeh \\n@AmnestyIran \\n@VOAIran \\n@CNN \\n@JavaidRehman https://t.co/LpFHirgtd4', '@MajorPoonia For @asadowaisi and \"bhim-mim\" gang this is a secular crime. Naturally they have consumed fevicol.', '@neiImobiIe Did u know she bash person head in with  a rock then take selfie at the crime scene', 'When are the International War Crimes charges against Vladimir Putin going to be laid as this ridiculous,the world has seen the death and destruction from Russia,the murders,the graves,the rape of women,the death of children,make it so Putin can never again leave Russia til death', 'Gosh what party could benefit from this? 🤔 surely the @LiberalAus party wouldn’t commit crimes to get re-elected. Surely not ? Nah… never #AusVotes22 https://t.co/EYnMBTR5eS', 'Unprecedented #Alcohol sales leading to crimes against #women says #BJP. #UAnow #Guntur https://t.co/ULfOCEilVG', \"what is stewy's full name? stewart??\", \"@Godfirst125 @Swagger4874 @News24 @City_Press 65% of SA youth are unemployed but we have lot of foreigners employed in SA for jobs that do not require scarce skills, I personally want foreigners to give us space to be able to address this crisis, lot of foreigners are busy committing crime &amp; we can't be quiet about that\", '@artdragon86 Good for him. Boycott season 4.let’s not fund ppl that promote hate crimes and have done a great deal of harm to a fragile community that did not need that', '@micheleforfl I can get a tan and eat pussy. That doesn’t make me qualified to run for office. What makes you qualified to run? Do you support Biden? How are you going address crime, inflation, the border? Other than throwing money at shit that doesn’t work, what are you actually going to do?', '@David_L_Boyd Which only makes bringing Zunino way way way too early all the more of a crime. Dude was an incredible hitter in college', 'Lol from branch members to the top 6 including Pravin are all card carrying members of the biggest organised crime syndicate in SA.\\n\\nANC cadres not only thieve, they also murder other ANC cadres. Their inept @GovernmentZA kills citizens through neglect.\\n\\nThugs. All of them. https://t.co/exCJ4vfHRq', '@TheDickKnightV2 @alicek3591 @Weinsteinlaw The chart you posted shows that most guns used in crimes are purchased off the street. Did I read that right? Doesn’t that mean there are too many fund floating around?', '@MVuer @LinaHidalgoTX I am glad you aren’t/haven’t been subjected to that. \\nI wish there weren’t these crimes &amp; more would step forward. I wish the victims of Epstein had justice. Justice in that ONE case May have made some think they could come forward or one think before committing the heinous crime', '@hymen_opus No thoughts; head empty', \"I'm old enough to remember when people committed crimes they were shammed, held accountable, fined, they apologized then went to jail or prison. Now they get promoted to Governor or Judge, seriously wtf? Blackmail, power, greed and threats is what happens now. #ShitHoleNation !!\", 'me not living in Seoul is a crime at this point. https://t.co/H0quunLQIQ', \"Why aren't there crime elephants who are out there helping us solve crimes?\", '@BrendanZornig Serious guess: Medieval Fantasy.\\nWrong answer: Crime fiction.', \"Crime is out of control. If the GOP doesn't use this in every mid term ad, they are even dumber than I thought. https://t.co/UGt0q5tgVr\", 'SPOTIFY FINALLY STARTED WORKING AND MY AIRPODS DIED IN THE MIDDLE OF ME LISTENING THIS IS A HATE CRIME https://t.co/hZbUEnTwyh', \"[ *®eal®ules🇵🇭PH ]                                       \\n☞ ®ing→legal at pushing on witchcrafts in politics causes to be on all telepaths →operating suspicions on penal's crime at'the'side'of SUP[E]R EARTH at [M]IND'RE△DING TA[C]TICS, (t)hat (v)iolates ! ®ighteously! ®ulers!\", '@GarrettML @mika6sic6 @CBSLA Because she hasn’t been convicted of a crime. What are you doing?', \"Whenever I listen cypher triptych music I feel like I'm in crime scene https://t.co/ufFA98AcrE\", '@DonaldJTrumpJr \\nRemember when your Dementia-addled daddy\\'s defense to every grifting traitorous scumbag act was \"Well it\\'s not illegal!\"?\\n\\nAnd btw, you\\'re too dimwitted to know this, but the Rightwinger who leaked the Sup Ct decision didn\\'t actually commit a crime, you cokehead.', '@shreksbigpeepee Ok the fact that you’ve never seen the departed is a crime', '@SoftieStar Being gay and doing crime', \"@HOLLAND_vvv I'm so sorry. This should stop happening right now!! Being yourself is not a crime ♡ Hope you get better soon 💜\", '@alok_pandey Speaking truth is not sin by any rules(laws) of any society but can be crime.', 'Let us not let someone’s privilege extend to absolution of one’s crime, more so to commend them and put them in a position of sovereignty.', '@MikeBlack114 Like, if we are too directly involved in targeting, that\\'s not a war crimes but it might prompt Russia to consider us belligerents. And they could act in self defense and there would be war.\\n\\nIt\\'s still not a \"war crime\"', '@tetragonon a revenge against god for the crime of being', 'Saw the first ep of #StrangeNewWorlds, and it will be my last. There are many problems with it, imo. T’Pring… Pike’s knowledge of the future… a Singh as first officer… and every supporting character acting like smug, hyper children using zany Whedon-like dialogue. So, I’m out. https://t.co/cEqnwekod6', '@John_Kass @chicagosmayor @KimFoxx @prespreckwinkle @GovPritzker Damn white people forget about they war crimes.', \"@objkshn @Snake_287506 @GeorgeGascon @LADAOffice Ya, I meant to say is anything the fault of the actual person commiting the crime. Everything is blamed on Gascon. It's ridiculous\", 'literally almost killed myself today but now im back to gaara loving crimes', '@FOXLA Since 2020….does that include the pandemic? Didn’t crime drop because of stay at home orders and stuff? I don’t agree with his lax policies but I question the data.', \"@EnaCollings @Rawiri_Waititi Who's 'entitled'? \\n\\nThe Maori committing 75% of crime in the BOP?\\n\\nThe Maori engaging in a disproportionate level of anti-social and criminal activity in the BOP?\\n\\nOr the people that are sick of it??\\n\\nThis was 2km from where my children were sleeping. People are sick of it. https://t.co/hWTmTHc9Pp\", 'Melanie joy Fontana always at the crime scene https://t.co/QsSiIhzykb', '@Angry_Staffer There is no law making it a crime to leak something from the Supreme Court.   The Chief will decide what administrative act to take.   \\n\\nThere is, however, a law about taking whatever substance this idiot is on.', '@Moralsbtw @breeanaah Why are you acting like the police do their job when women report crimes against abusive men?', \"@AndFuntimes 「Selflessness is a crime in and of itself. She'd die for you and her machines, and that is incredibly pointless in my eyes. She won't stand up for herself, only for her robots.」\\n\\nHands clasp together.\\n\\n「I hate to call her a version of me.」\", '@WashTimes ‘Ruth Sent Us’ activists plan HATE CRIMES at churches, Supreme Court justices’ homes... there, fixed it.', '@Fryguy2231 Of course it doesn’t add up, because WS is a organized crime ring, you have companies with massive debt with bigger market caps than bbby', 'Me to all the weird furry 15 year olds who think that turning 18 is a crime. https://t.co/U77XyZn8Eh', \"@chocolatadisco KSGSKSG the center usually attractive as hell ikr 😭 but it's a crime tho they don't have green\", \"@itsDaniDarling @ValPancakes @itsDaniDarling  ahahah I gotta say I'm cheering for @ValPancakes  she's your partner in crime and bestfriend\", 'THE STAIRCASE is the name of the HBOMAX movie THATS based on the case ID IS DOING A 3PT DOC ON. BTW, If ur a true crime nerd like myslf. There was some true crime pcast convention last wk. A group there has finally solved the Brandon Lawson case.', '@Dzos @dorkitha @jazzutefan0724 @Rynn79220871 @BenWinslow @UTHighwayPatrol @fox13 Ectopic pregnancies are fatal for the baby 100% of the time so it is okay in that case. For rape, the baby is guilty of no crime that warrants its execution. No death penalty for the innocent.', \"@somerandomwill1 @AGramuglia I'm pretty sure subjecting people to Jonah Hex is some sort of crime.\", 'Two busy scenes on Alvarado Niles but appears that no crime has occurred.', 'honking your horn at 12:12 am when it’s not absolutely necessary should be a capital crime idc. stfu bitch', '@skooliegirl @LauriBrenner @briantylercohen They’re not pro-life, they just hate women. Legislating against abortion is a hate crime.', '@MichaelJRollins @bluntz401 @rhody_special @TheRhodyReport @PaulRiannaJr @AshleyKalus @AnnaMar87644653 @MarieForRI @JeannCLugo @AmericaFirstRI @markclarke111 @ClastonB @BobLancia @kathyprojo @benshapiro @GovRonDeSantis @Jim_Jordan @RealCandaceO @RIACLU @RIHouseofReps @RIDemParty @elonmusk @Twitter @govkingINRI @govkingINRI and @PaulRiannaJr have been shadowbanned from equal participation in public forums by groups who hide their crimes behind the private property claims on their lessors. In Robins v Pruneyard we learned this can’t be done. @RIPEC_ will answer at least to the @IRS_CI https://t.co/w7UU4zt1S8', 'Bath Twp. #police warn residents after mail #theft reports - May 6 @ 12:10 AM ET https://t.co/r8lOZ2UoWX', \"@DelcoPatriot420 @Reuters Safe to say that you didn't even attempt to read the article before making a pathetically inaccurate claim about forced abortion. The issue here is forced pregnancy, a crime against humanity sanctionable by international law.\", '@nerdcore_gf EVEN BATMAN DOESNT RESPECT HIM! literally the whole thing about the penguin is that he is a human man who is treated like an animal. his most heinous crime is that he tries to be a person and everyone, \"good\" and \"evil\", punishes him for it. he is also evil fr i dont deny that', 'Suspect admits to a previous crime after arrest.\\n\\nhttps://t.co/L8KmMGQQw6', \"@StellaParton Dem politicians and influencers whipping up violent protesters and threatening the court when they have not even released their final decision: It's Treason actually and a whole number of other crimes as well. A true insurrection.\", '@TheAxelJohnson @Caveman36282179 They’re literally not arresting Black men for crimes in San Francisco or publishing their mug shots. Who’s not being held accountable?', \"@EllieKrote You haven't and that should be a crime /j\", '@City_Press Spoiled brats and they know they wil get away with whatever crime they commit', '@somuveerraju @ysjagan @JPNadda @blsanthosh @BJPMadhukarAP @Sunil_Deodhar @VMBJP @kishanreddybjp @BJP4India @shivprakashbjp @BJP4Andhra @GVLNRAO Sad to see crime on women increasing in AP.', '@take5fatass He wasn’t even a Republican until Griffin started throwing millions at him! He was a mainline normie tough on crime centrist democrat', '@WhiteHouse White House or war crime house', '@jenny2x4 @parasocialyte I remember as a kid there were very high profile true crime things and the news cycle was so slow they’d drag this out for months and months on end\\n\\nI remember hearing the OJ verdict in Spanish class, I was in 8th grade I think', \"Diversity is communism\\n\\nRace mixing is a sin\\n\\nReplacement Migrants are not oppressed their the Trojan Horse put here to eliminate our white race through crimes of murder and the sin of race-mixing. Mainstream news media is Anti-White that's why you don't know this is going on.\", '@yourminuteisup @Jennifer4Austin @StuckinATX @1Sandy_N_Austin I cant imagine the real crimes happening. Thats why the public transport is a joke also. Ask any of your Hot Girlfriends is they feel safe taking a Bus/Train anywhere. No!!! Until women feel safe, public transport is a drunk poet dream.', '@gaweatherboy @FoxNews Open carry people don’t create crime, they stop it. His ass probably would have been shot before he made it to Dave had people been allowed to open carry. You really should think before you you tweet.', '@PodcastRiddle @DrAshleyWellman I couldn’t believe it was in support of the same podcast that blocked me. Attempting to compare slavery to abortion and how women are uneducated, etc. Anyone in support of that BS, I’ll GLADLY show them the door my damn self. Announcing their exit like, too…like, baby idc bye!😆', \"holland suffering a hate crime but he won't be getting justice because soko doesn't have lgbtq anti discrimination laws xD atp they'll say he deserved it. this the country the lot of u glamorize?\", 'Crime-Goodfellas\\nWestern-Rio Bravo\\nSci-Fi Videodrome\\nComedy-Revenge of the Nerds\\nHorror-Christine https://t.co/NfpmhpgUHN', \"So crime is skyrocketing. \\nSo are food and gas and rent.\\nWe are at war, killing Russians and bragging about it. \\nSupreme Court Justices are in protective custody, due to death threats. Suicide is the number 1 cause of death for kids under 18. That's Biden's America.\", 'Often touted as ‘Rental Sikh’ by the Sikh Community. BJP leader #TejinderBagga arrested by the Punjab Police in Delhi. #PunjabPolice #Sikh https://t.co/9aiQ5Gq7LI', '@matthewBadass2 I agree. So what we should be referring to them as is \"voters\".\\n\\nThey are approving &amp; condoning a collective negligent manslaughter in the name of our nation.\\n\\nThey are not, however, perpetrating atrocities &amp; war crimes. \\n\\nThe difference is perhaps crucial to getting any change.', \"@Lawrence 2 crimes don't make it alright.\", 'The #SpecialTaskForce (STF) of #Odisha Crime Branch seized one #leopardskin from the possession of a wildlife criminal in Saintala area of Bolangir district on Thursday.\\n#odishanews #ommcomnews\\nhttps://t.co/D93YNbjsuE', '@yorkie_daisy @ellisbross Can you tell us all what the BC LIBERALS done to fight crime?', 'this love tv is perfect and i will be listening to it for the foreseeable future thanks #ThisLoveTaylorVersion @taylornation13 @taylorswift13', '@MzwaneleManyi @afriforum \"..apartheid was not a crime against humanity..\"_ apartheid criminal president de klerk = \"..Holocaust was not a crime against humanity..\"! like #NaziUkraine they ONLY listen through their skin, #Putin deemed it  fit to communicate with them (Nazis/apartheid apologists) as such! https://t.co/Qwiz0JuFIt', \"@voyagerains And again, he said his favorite character is Wilford when he did more shitty crimes than Yancy like bestie that doesn't add up\", '@MayoIsSpicyy If she used an IUD to stop pregnancy, she is a criminal.\\nAccording to the #MAGA @GOP, birth control is a crime.', 'What can I say... I have no words.\\n\\nThis brutal crime is a slap on those faces who bash hindus day &amp; night. Those wokes from the west... Those who write countless articles for foreign newspapers saying that minorities r living under fear in india.\\n\\n#MinoritiesUnderFear https://t.co/DQjLgXjkFP', '@Acyn Leaks are an issue when it’s a crime of humanity by the Supreme Court. The issue is with the Supreme Court, not the leaker.', 'What makes me “feel unsafe” about this is MULTIPLE cops from an agency that has a half a billion $ budget and the support of both the mayor &amp; the governor were literal feet away from a violent crime &amp; couldn’t be bothered to intervene, not that we have to respect suspects’ rights', '@ChiefVizier @Dooter18769429 @MichaelKorman30 @ilovegridzone @BCrowder45 @NOS_Reviews @mojito_fiend @mattsinger Yeah that sounds great. Would love to see crime films again, we’ve had pretty much no significant ones since Uncut Gems and Irishman in 2019', '@GovWhitmer There is no right to defend. Its not a right to begin with. Just do the crime and do the time. Simple. If you can spread those legs irresponsibility you can find a way to responsibility  take care of what the consequences are. Jail or baby! Think most will have the child.', \"this love has never been a favorite so, as long as there's no egregious crime like with our dearly departed girl at home it's fine it'll do\", 'How does one walk into a police station, confess to a crime and then say they were coerced ?', 'Finished this and Im waiting for the police to show up in my door bc it looks like I committed a horrible crime actually https://t.co/hqDfmYErGE', '@ImColinBrown Buddy, have I got news for you', \"If he looked at me like that... I'd confess even crimes I didn't commit 🥴🥴 https://t.co/3LMD3PFamg\", '@MikeBlack114 If he weren\\'t such an asshat, I could see where he was making a somewhat understandable mistake: conflating \"war crimes\" with \"actions that might render us party to the conflict\"', '@TROYDBENTLEYSR They keep letting the same guy out and he keeps committing the same crime?', 'hate crime i hate yall /j https://t.co/4q7ipCPRuX', '@LarryReverie Ohhh to accidentally lose grip and be hanging helplessly from my harness and carabiner going \"a little help here???\" @ my enemies to lovers partner in crime', '@megstar73 @JaimeKay And on cinco de mayo! Truly a hate crime', 'Turning a Constitutional right into a felony crime can\\'t go unanswered. And the Republican plan to sound \"compassionate\" about removing that right from half of all Americans is laughable.\\n#RememberInNovember', \"@Lukocevisus @DBCoope43604497 @berniebro88 @Melvinator33 @Lisa_in_theUSA @nmlinguaphile @claystaggs @novemberscomin @chucktowngent @spamitall @kelleysher @michaelgreen @Gregdabutcher @Jeff68033197 @Desert_yoSemite Finland &amp; Sweden are going to join NATO so when Russia attacks them NATO will be obligated to engage.\\n\\nThey don't want the Ukrainian Treatment. Not joing NATO to keep Putin happy &amp; then Russia attacks, commits countless war crimes &amp; bombs everything\\n\\nUkraine looks like Hiroshima.\", 'Our people in the Senate Intelligence, said that we have captured these crimes and massive totally obstruct, no reason.”', 'Thank you to whoever left us this incredibly sweet and kind review! 😭\\U0001f979\\U0001faf6🏼 We’re only 2 reviews away from our giveaway! \\n\\nIf you left this review, please DM us so we can send you some stickers! https://t.co/EtZsUSAy0s']\n"
          ]
        }
      ],
      "source": [
        "print(tweets)"
      ]
    },
    {
      "cell_type": "code",
      "execution_count": 56,
      "metadata": {
        "colab": {
          "base_uri": "https://localhost:8080/"
        },
        "id": "gWgOcCXfXedT",
        "outputId": "a2c646c2-7810-4f56-e8d2-6caf731e400e"
      },
      "outputs": [
        {
          "output_type": "stream",
          "name": "stdout",
          "text": [
            "1/1 [==============================] - 0s 498ms/step\n",
            "1/1 [==============================] - 1s 507ms/step\n",
            "1/1 [==============================] - 1s 505ms/step\n",
            "1/1 [==============================] - 1s 511ms/step\n",
            "1/1 [==============================] - 0s 499ms/step\n",
            "1/1 [==============================] - 0s 486ms/step\n",
            "1/1 [==============================] - 0s 481ms/step\n",
            "1/1 [==============================] - 0s 483ms/step\n",
            "1/1 [==============================] - 0s 496ms/step\n",
            "1/1 [==============================] - 1s 509ms/step\n",
            "1/1 [==============================] - 0s 476ms/step\n",
            "1/1 [==============================] - 1s 704ms/step\n",
            "1/1 [==============================] - 1s 1s/step\n",
            "1/1 [==============================] - 1s 815ms/step\n",
            "1/1 [==============================] - 1s 506ms/step\n",
            "1/1 [==============================] - 1s 1s/step\n",
            "1/1 [==============================] - 0s 497ms/step\n",
            "1/1 [==============================] - 1s 510ms/step\n",
            "1/1 [==============================] - 0s 474ms/step\n",
            "1/1 [==============================] - 0s 488ms/step\n",
            "1/1 [==============================] - 0s 481ms/step\n",
            "1/1 [==============================] - 0s 477ms/step\n",
            "1/1 [==============================] - 0s 475ms/step\n",
            "1/1 [==============================] - 0s 485ms/step\n",
            "1/1 [==============================] - 0s 479ms/step\n",
            "1/1 [==============================] - 0s 469ms/step\n",
            "1/1 [==============================] - 0s 494ms/step\n",
            "1/1 [==============================] - 0s 484ms/step\n",
            "1/1 [==============================] - 1s 504ms/step\n",
            "1/1 [==============================] - 0s 487ms/step\n",
            "1/1 [==============================] - 0s 489ms/step\n",
            "1/1 [==============================] - 0s 499ms/step\n",
            "1/1 [==============================] - 0s 467ms/step\n",
            "1/1 [==============================] - 0s 492ms/step\n",
            "1/1 [==============================] - 0s 483ms/step\n",
            "1/1 [==============================] - 0s 489ms/step\n",
            "1/1 [==============================] - 0s 462ms/step\n",
            "1/1 [==============================] - 0s 479ms/step\n",
            "1/1 [==============================] - 1s 504ms/step\n",
            "1/1 [==============================] - 0s 476ms/step\n",
            "1/1 [==============================] - 1s 503ms/step\n",
            "1/1 [==============================] - 0s 478ms/step\n",
            "1/1 [==============================] - 0s 483ms/step\n",
            "1/1 [==============================] - 0s 490ms/step\n",
            "1/1 [==============================] - 0s 494ms/step\n",
            "1/1 [==============================] - 1s 505ms/step\n",
            "1/1 [==============================] - 0s 490ms/step\n",
            "1/1 [==============================] - 0s 485ms/step\n",
            "1/1 [==============================] - 0s 454ms/step\n",
            "1/1 [==============================] - 1s 541ms/step\n",
            "1/1 [==============================] - 0s 487ms/step\n",
            "1/1 [==============================] - 1s 511ms/step\n",
            "1/1 [==============================] - 1s 1s/step\n",
            "1/1 [==============================] - 0s 489ms/step\n",
            "1/1 [==============================] - 0s 482ms/step\n",
            "1/1 [==============================] - 0s 491ms/step\n",
            "1/1 [==============================] - 0s 497ms/step\n",
            "1/1 [==============================] - 0s 491ms/step\n",
            "1/1 [==============================] - 1s 513ms/step\n",
            "1/1 [==============================] - 1s 509ms/step\n",
            "1/1 [==============================] - 1s 502ms/step\n",
            "1/1 [==============================] - 0s 498ms/step\n",
            "1/1 [==============================] - 0s 485ms/step\n",
            "1/1 [==============================] - 1s 520ms/step\n",
            "1/1 [==============================] - 1s 532ms/step\n",
            "1/1 [==============================] - 0s 488ms/step\n",
            "1/1 [==============================] - 0s 484ms/step\n",
            "1/1 [==============================] - 0s 495ms/step\n",
            "1/1 [==============================] - 1s 527ms/step\n",
            "1/1 [==============================] - 1s 512ms/step\n",
            "1/1 [==============================] - 1s 539ms/step\n",
            "1/1 [==============================] - 1s 506ms/step\n",
            "1/1 [==============================] - 0s 485ms/step\n",
            "1/1 [==============================] - 1s 501ms/step\n",
            "1/1 [==============================] - 0s 490ms/step\n",
            "1/1 [==============================] - 0s 494ms/step\n",
            "1/1 [==============================] - 0s 493ms/step\n",
            "1/1 [==============================] - 0s 481ms/step\n",
            "1/1 [==============================] - 1s 507ms/step\n",
            "1/1 [==============================] - 0s 494ms/step\n",
            "1/1 [==============================] - 0s 471ms/step\n",
            "1/1 [==============================] - 1s 504ms/step\n",
            "1/1 [==============================] - 1s 508ms/step\n",
            "1/1 [==============================] - 0s 483ms/step\n",
            "1/1 [==============================] - 0s 478ms/step\n",
            "1/1 [==============================] - 0s 481ms/step\n",
            "1/1 [==============================] - 1s 511ms/step\n",
            "1/1 [==============================] - 1s 603ms/step\n",
            "1/1 [==============================] - 1s 539ms/step\n",
            "1/1 [==============================] - 1s 513ms/step\n",
            "1/1 [==============================] - 1s 542ms/step\n",
            "1/1 [==============================] - 1s 512ms/step\n",
            "1/1 [==============================] - 1s 515ms/step\n",
            "1/1 [==============================] - 1s 545ms/step\n",
            "1/1 [==============================] - 1s 551ms/step\n",
            "1/1 [==============================] - 1s 502ms/step\n",
            "1/1 [==============================] - 1s 515ms/step\n",
            "1/1 [==============================] - 1s 511ms/step\n",
            "1/1 [==============================] - 1s 503ms/step\n",
            "1/1 [==============================] - 1s 528ms/step\n",
            "1/1 [==============================] - 1s 519ms/step\n",
            "1/1 [==============================] - 1s 533ms/step\n",
            "1/1 [==============================] - 0s 499ms/step\n",
            "1/1 [==============================] - 0s 495ms/step\n",
            "1/1 [==============================] - 1s 507ms/step\n",
            "1/1 [==============================] - 1s 712ms/step\n",
            "1/1 [==============================] - 1s 818ms/step\n",
            "1/1 [==============================] - 1s 811ms/step\n",
            "1/1 [==============================] - 1s 517ms/step\n",
            "1/1 [==============================] - 1s 505ms/step\n",
            "1/1 [==============================] - 0s 496ms/step\n",
            "1/1 [==============================] - 1s 519ms/step\n",
            "1/1 [==============================] - 0s 489ms/step\n",
            "1/1 [==============================] - 1s 501ms/step\n",
            "1/1 [==============================] - 0s 492ms/step\n",
            "1/1 [==============================] - 1s 524ms/step\n",
            "1/1 [==============================] - 1s 500ms/step\n",
            "1/1 [==============================] - 1s 528ms/step\n",
            "1/1 [==============================] - 1s 562ms/step\n",
            "1/1 [==============================] - 1s 517ms/step\n",
            "1/1 [==============================] - 1s 519ms/step\n",
            "1/1 [==============================] - 0s 496ms/step\n",
            "1/1 [==============================] - 0s 490ms/step\n",
            "1/1 [==============================] - 1s 500ms/step\n",
            "1/1 [==============================] - 0s 498ms/step\n",
            "1/1 [==============================] - 1s 528ms/step\n",
            "1/1 [==============================] - 1s 510ms/step\n",
            "1/1 [==============================] - 0s 477ms/step\n",
            "1/1 [==============================] - 0s 495ms/step\n",
            "1/1 [==============================] - 0s 487ms/step\n",
            "1/1 [==============================] - 1s 522ms/step\n",
            "1/1 [==============================] - 0s 497ms/step\n",
            "1/1 [==============================] - 1s 528ms/step\n",
            "1/1 [==============================] - 1s 503ms/step\n",
            "1/1 [==============================] - 0s 486ms/step\n",
            "1/1 [==============================] - 1s 512ms/step\n",
            "1/1 [==============================] - 0s 492ms/step\n",
            "1/1 [==============================] - 0s 483ms/step\n",
            "1/1 [==============================] - 0s 471ms/step\n",
            "1/1 [==============================] - 0s 471ms/step\n",
            "1/1 [==============================] - 1s 1s/step\n",
            "1/1 [==============================] - 1s 502ms/step\n",
            "1/1 [==============================] - 0s 481ms/step\n",
            "1/1 [==============================] - 0s 476ms/step\n",
            "1/1 [==============================] - 0s 489ms/step\n",
            "1/1 [==============================] - 0s 459ms/step\n",
            "1/1 [==============================] - 1s 501ms/step\n",
            "1/1 [==============================] - 1s 511ms/step\n",
            "1/1 [==============================] - 0s 473ms/step\n",
            "1/1 [==============================] - 0s 464ms/step\n",
            "1/1 [==============================] - 0s 452ms/step\n",
            "1/1 [==============================] - 0s 457ms/step\n",
            "1/1 [==============================] - 0s 464ms/step\n",
            "1/1 [==============================] - 0s 475ms/step\n",
            "1/1 [==============================] - 1s 504ms/step\n",
            "1/1 [==============================] - 0s 489ms/step\n",
            "1/1 [==============================] - 0s 459ms/step\n",
            "1/1 [==============================] - 0s 464ms/step\n",
            "1/1 [==============================] - 0s 475ms/step\n",
            "1/1 [==============================] - 0s 487ms/step\n",
            "1/1 [==============================] - 0s 487ms/step\n",
            "1/1 [==============================] - 0s 484ms/step\n",
            "1/1 [==============================] - 0s 491ms/step\n",
            "1/1 [==============================] - 0s 489ms/step\n",
            "1/1 [==============================] - 0s 499ms/step\n",
            "1/1 [==============================] - 1s 502ms/step\n",
            "1/1 [==============================] - 1s 502ms/step\n",
            "1/1 [==============================] - 1s 527ms/step\n",
            "1/1 [==============================] - 0s 499ms/step\n",
            "1/1 [==============================] - 1s 507ms/step\n",
            "1/1 [==============================] - 0s 481ms/step\n",
            "1/1 [==============================] - 0s 478ms/step\n",
            "1/1 [==============================] - 0s 496ms/step\n",
            "1/1 [==============================] - 0s 482ms/step\n",
            "1/1 [==============================] - 0s 496ms/step\n",
            "1/1 [==============================] - 0s 487ms/step\n",
            "1/1 [==============================] - 0s 488ms/step\n",
            "1/1 [==============================] - 0s 469ms/step\n",
            "1/1 [==============================] - 1s 1s/step\n",
            "1/1 [==============================] - 0s 499ms/step\n",
            "1/1 [==============================] - 1s 508ms/step\n",
            "1/1 [==============================] - 1s 503ms/step\n",
            "1/1 [==============================] - 0s 489ms/step\n",
            "1/1 [==============================] - 0s 491ms/step\n",
            "1/1 [==============================] - 1s 558ms/step\n",
            "1/1 [==============================] - 1s 522ms/step\n",
            "1/1 [==============================] - 0s 499ms/step\n",
            "1/1 [==============================] - 1s 505ms/step\n",
            "1/1 [==============================] - 0s 471ms/step\n",
            "1/1 [==============================] - 0s 463ms/step\n",
            "1/1 [==============================] - 0s 489ms/step\n",
            "1/1 [==============================] - 1s 501ms/step\n",
            "1/1 [==============================] - 0s 487ms/step\n",
            "1/1 [==============================] - 1s 514ms/step\n",
            "1/1 [==============================] - 1s 510ms/step\n",
            "1/1 [==============================] - 1s 512ms/step\n",
            "1/1 [==============================] - 0s 489ms/step\n",
            "1/1 [==============================] - 0s 485ms/step\n",
            "1/1 [==============================] - 0s 472ms/step\n",
            "1/1 [==============================] - 0s 457ms/step\n"
          ]
        }
      ],
      "source": [
        "final_tweets=[]\n",
        "for tweet in tweets :\n",
        " \n",
        "               # empty dictionary to store required params of a tweet\n",
        "               parsed_tweet = {}\n",
        " \n",
        "               # saving text of tweet\n",
        "               parsed_tweet['text'] = tweet\n",
        "              \n",
        "               # saving sentiment of tweet\n",
        "               parsed_tweet['class'] = predict_disaster(tweet)\n",
        "                # appending parsed tweet to tweets list\n",
        "                   # if tweet has retweets, ensure that it is appended only once\n",
        "               if parsed_tweet not in final_tweets:\n",
        "                  final_tweets.append(parsed_tweet)\n",
        "      "
      ]
    },
    {
      "cell_type": "code",
      "execution_count": 57,
      "metadata": {
        "colab": {
          "base_uri": "https://localhost:8080/"
        },
        "id": "01LhiC9QpE_G",
        "outputId": "1df18a55-c45c-46d9-afc7-0f411b6764e4"
      },
      "outputs": [
        {
          "output_type": "stream",
          "name": "stdout",
          "text": [
            "Real Disaster tweets percentage: 2.5 %\n",
            "No Disaster tweets percentage: 97.5 %\n"
          ]
        }
      ],
      "source": [
        "real_d  = [tweet for tweet in final_tweets if tweet['class'] == 'real disaster'] \n",
        "print(\"Real Disaster tweets percentage: {} %\".format(round((100*len(real_d )/len(final_tweets)),2)))\n",
        " \n",
        "no_d = [tweet for tweet in final_tweets if tweet['class'] == 'no disaster']\n",
        "print(\"No Disaster tweets percentage: {} %\".format(round((100*len(no_d)/len(final_tweets)),2)))"
      ]
    },
    {
      "cell_type": "code",
      "execution_count": 58,
      "metadata": {
        "id": "bJTtneNupFBt",
        "colab": {
          "base_uri": "https://localhost:8080/"
        },
        "outputId": "eb5dff44-f152-49f4-b906-edbf3532e4cd"
      },
      "outputs": [
        {
          "output_type": "stream",
          "name": "stdout",
          "text": [
            "\n",
            "\n",
            " Real Disaster tweets:\n",
            "Delhi is increasingly reporting crimes inside/outside schools. Now, two 8-year-old girls have been molested inside their classroom by an unknown person at a Delhi school. The man removed the clothes of the girls, he then removed his clothes and urinated in front of the class.\n",
            "\n",
            "\n",
            "@Angelo4justice3 I was one of the US officers in Iraq with the Intl investigations team. No WMD evidence of chemical weapons though. I have been going to Ukraine for some time over the years Ukrainians with family of Russian ethnicity were being targeted and gruesome crimes being committed. 😐\n",
            "\n",
            "\n",
            "Two busy scenes on Alvarado Niles but appears that no crime has occurred.\n",
            "\n",
            "\n",
            "The #SpecialTaskForce (STF) of #Odisha Crime Branch seized one #leopardskin from the possession of a wildlife criminal in Saintala area of Bolangir district on Thursday.\n",
            "#odishanews #ommcomnews\n",
            "https://t.co/D93YNbjsuE\n",
            "\n",
            "\n",
            "Finished this and Im waiting for the police to show up in my door bc it looks like I committed a horrible crime actually https://t.co/hqDfmYErGE\n",
            "\n",
            "\n"
          ]
        }
      ],
      "source": [
        "print(\"\\n\\n Real Disaster tweets:\")\n",
        "l=0\n",
        "for tweet in real_d[:10]:\n",
        "   l+=5\n",
        "   print(tweet['text'])\n",
        "   print('\\n')\n",
        "   if l==5:\n",
        "     break"
      ]
    },
    {
      "cell_type": "code",
      "execution_count": 59,
      "metadata": {
        "id": "8mzM4_09pFGl",
        "colab": {
          "base_uri": "https://localhost:8080/"
        },
        "outputId": "2b69c67a-8745-47ee-d0a9-7de35b26eecc"
      },
      "outputs": [
        {
          "output_type": "stream",
          "name": "stdout",
          "text": [
            "\n",
            "\n",
            " No Disaster tweets:\n",
            "@ela1949 2 inbred pieces of vermin, hope that once captured they receive unimaginably painful justice for their crimes.\n",
            "\n",
            "Why Israel does not mass deport large numbers of these animals I just don't understand, along with wiping off the map the entire hamas leadership supporting these acts.\n",
            "\n",
            "\n",
            "@RedGlar9 @MJB24681 @TetraQammon @SouthTownKing @Bigteethyouhave @drdeblk @LifeNyc2 @ThePatriotPar15 @Synyster63 @428Panda @RoyU812 @TrumpLOST5 @_Project1000 @MattDelier @DonaldJsTrumps @BadgerinFlorida @BigBluHeart67 @BrandonPutin @RealDoctorT @huskygal19 @BsSlayah @UseLogicPlease1 @BDonedat @LibsAreSoDumb @theresamtequil1 @chriscr66024638 @michellmybell1 @McmastersMoose @egosempertecum1 @TragicEra @prynne_hyster @GrieveNSpin @emmanue00857463 @TomDoubting @SpongebobBirth @neville1776 @jefftheessene @LadyOfTheOcean1 @nevacomplyagain @CMcfunster @blondjewels @VeryDamagdGoods @Pittsburgbitch @Jetson77 @fvckbootlickers @IanIsNotMyName @AlphasGhost @FECKFECK611 @TheEndTimes__ @DennyGr28530407 “…there is evidence of the biden crime families corruption…”\n",
            "Nope! 😂😂😂\n",
            "\n",
            "\n",
            "@ObaidullaBaheer You don't want to be the only one accepting blame publicly for your side, ok, but you have a good relationship with him, how do you not just hate the man who did the stuff he did. \n",
            "\n",
            "Is lack of fair accountability why his crimes don't bother you personally?\n",
            "\n",
            "\n",
            "Why crime keeps going up🤔🙄 https://t.co/m3cwudc5ck\n",
            "\n",
            "\n",
            "@RepTedLieu Good luck to all these small business as they try to survive growing inflation, gas prices hikes, a looming recession, and crimes and robberies that never get prosecuted! Great work here Democrats!\n",
            "\n",
            "\n"
          ]
        }
      ],
      "source": [
        "print(\"\\n\\n No Disaster tweets:\")\n",
        "l=0\n",
        "for tweet in no_d[:10]:\n",
        "   if l==5:\n",
        "     break\n",
        "   print(tweet['text'])\n",
        "   l+=1\n",
        "   print('\\n')"
      ]
    }
  ],
  "metadata": {
    "accelerator": "TPU",
    "colab": {
      "collapsed_sections": [],
      "name": "Bert.ipynb",
      "provenance": []
    },
    "kernelspec": {
      "display_name": "Python 3",
      "name": "python3"
    },
    "language_info": {
      "name": "python"
    },
    "widgets": {
      "application/vnd.jupyter.widget-state+json": {
        "65ff56a4e537494aa843ee5e815ac7a8": {
          "model_module": "@jupyter-widgets/controls",
          "model_name": "HBoxModel",
          "model_module_version": "1.5.0",
          "state": {
            "_dom_classes": [],
            "_model_module": "@jupyter-widgets/controls",
            "_model_module_version": "1.5.0",
            "_model_name": "HBoxModel",
            "_view_count": null,
            "_view_module": "@jupyter-widgets/controls",
            "_view_module_version": "1.5.0",
            "_view_name": "HBoxView",
            "box_style": "",
            "children": [
              "IPY_MODEL_140a25a83063416d8bac9a823e5bb918",
              "IPY_MODEL_4dcdd87e5547480292a888c115ed6180",
              "IPY_MODEL_5b2013d1cec14eafbbb95990263f9ade"
            ],
            "layout": "IPY_MODEL_15e71dcf2d8a450588ce08f998d5d443"
          }
        },
        "140a25a83063416d8bac9a823e5bb918": {
          "model_module": "@jupyter-widgets/controls",
          "model_name": "HTMLModel",
          "model_module_version": "1.5.0",
          "state": {
            "_dom_classes": [],
            "_model_module": "@jupyter-widgets/controls",
            "_model_module_version": "1.5.0",
            "_model_name": "HTMLModel",
            "_view_count": null,
            "_view_module": "@jupyter-widgets/controls",
            "_view_module_version": "1.5.0",
            "_view_name": "HTMLView",
            "description": "",
            "description_tooltip": null,
            "layout": "IPY_MODEL_e03ba9f9527f4d76b0619c9c5f97461f",
            "placeholder": "​",
            "style": "IPY_MODEL_a41a847556f5488b90ce30da5bb8e800",
            "value": "Downloading: 100%"
          }
        },
        "4dcdd87e5547480292a888c115ed6180": {
          "model_module": "@jupyter-widgets/controls",
          "model_name": "FloatProgressModel",
          "model_module_version": "1.5.0",
          "state": {
            "_dom_classes": [],
            "_model_module": "@jupyter-widgets/controls",
            "_model_module_version": "1.5.0",
            "_model_name": "FloatProgressModel",
            "_view_count": null,
            "_view_module": "@jupyter-widgets/controls",
            "_view_module_version": "1.5.0",
            "_view_name": "ProgressView",
            "bar_style": "success",
            "description": "",
            "description_tooltip": null,
            "layout": "IPY_MODEL_c1161708f5cc46bda5ced0a47e5c76b2",
            "max": 570,
            "min": 0,
            "orientation": "horizontal",
            "style": "IPY_MODEL_6a0911b4023d4754a58467e9684b1e2a",
            "value": 570
          }
        },
        "5b2013d1cec14eafbbb95990263f9ade": {
          "model_module": "@jupyter-widgets/controls",
          "model_name": "HTMLModel",
          "model_module_version": "1.5.0",
          "state": {
            "_dom_classes": [],
            "_model_module": "@jupyter-widgets/controls",
            "_model_module_version": "1.5.0",
            "_model_name": "HTMLModel",
            "_view_count": null,
            "_view_module": "@jupyter-widgets/controls",
            "_view_module_version": "1.5.0",
            "_view_name": "HTMLView",
            "description": "",
            "description_tooltip": null,
            "layout": "IPY_MODEL_211b49e4f0e84a11a2c289f9552668e2",
            "placeholder": "​",
            "style": "IPY_MODEL_a7496ed50cc341188b7d900b801d3a9c",
            "value": " 570/570 [00:00&lt;00:00, 4.37kB/s]"
          }
        },
        "15e71dcf2d8a450588ce08f998d5d443": {
          "model_module": "@jupyter-widgets/base",
          "model_name": "LayoutModel",
          "model_module_version": "1.2.0",
          "state": {
            "_model_module": "@jupyter-widgets/base",
            "_model_module_version": "1.2.0",
            "_model_name": "LayoutModel",
            "_view_count": null,
            "_view_module": "@jupyter-widgets/base",
            "_view_module_version": "1.2.0",
            "_view_name": "LayoutView",
            "align_content": null,
            "align_items": null,
            "align_self": null,
            "border": null,
            "bottom": null,
            "display": null,
            "flex": null,
            "flex_flow": null,
            "grid_area": null,
            "grid_auto_columns": null,
            "grid_auto_flow": null,
            "grid_auto_rows": null,
            "grid_column": null,
            "grid_gap": null,
            "grid_row": null,
            "grid_template_areas": null,
            "grid_template_columns": null,
            "grid_template_rows": null,
            "height": null,
            "justify_content": null,
            "justify_items": null,
            "left": null,
            "margin": null,
            "max_height": null,
            "max_width": null,
            "min_height": null,
            "min_width": null,
            "object_fit": null,
            "object_position": null,
            "order": null,
            "overflow": null,
            "overflow_x": null,
            "overflow_y": null,
            "padding": null,
            "right": null,
            "top": null,
            "visibility": null,
            "width": null
          }
        },
        "e03ba9f9527f4d76b0619c9c5f97461f": {
          "model_module": "@jupyter-widgets/base",
          "model_name": "LayoutModel",
          "model_module_version": "1.2.0",
          "state": {
            "_model_module": "@jupyter-widgets/base",
            "_model_module_version": "1.2.0",
            "_model_name": "LayoutModel",
            "_view_count": null,
            "_view_module": "@jupyter-widgets/base",
            "_view_module_version": "1.2.0",
            "_view_name": "LayoutView",
            "align_content": null,
            "align_items": null,
            "align_self": null,
            "border": null,
            "bottom": null,
            "display": null,
            "flex": null,
            "flex_flow": null,
            "grid_area": null,
            "grid_auto_columns": null,
            "grid_auto_flow": null,
            "grid_auto_rows": null,
            "grid_column": null,
            "grid_gap": null,
            "grid_row": null,
            "grid_template_areas": null,
            "grid_template_columns": null,
            "grid_template_rows": null,
            "height": null,
            "justify_content": null,
            "justify_items": null,
            "left": null,
            "margin": null,
            "max_height": null,
            "max_width": null,
            "min_height": null,
            "min_width": null,
            "object_fit": null,
            "object_position": null,
            "order": null,
            "overflow": null,
            "overflow_x": null,
            "overflow_y": null,
            "padding": null,
            "right": null,
            "top": null,
            "visibility": null,
            "width": null
          }
        },
        "a41a847556f5488b90ce30da5bb8e800": {
          "model_module": "@jupyter-widgets/controls",
          "model_name": "DescriptionStyleModel",
          "model_module_version": "1.5.0",
          "state": {
            "_model_module": "@jupyter-widgets/controls",
            "_model_module_version": "1.5.0",
            "_model_name": "DescriptionStyleModel",
            "_view_count": null,
            "_view_module": "@jupyter-widgets/base",
            "_view_module_version": "1.2.0",
            "_view_name": "StyleView",
            "description_width": ""
          }
        },
        "c1161708f5cc46bda5ced0a47e5c76b2": {
          "model_module": "@jupyter-widgets/base",
          "model_name": "LayoutModel",
          "model_module_version": "1.2.0",
          "state": {
            "_model_module": "@jupyter-widgets/base",
            "_model_module_version": "1.2.0",
            "_model_name": "LayoutModel",
            "_view_count": null,
            "_view_module": "@jupyter-widgets/base",
            "_view_module_version": "1.2.0",
            "_view_name": "LayoutView",
            "align_content": null,
            "align_items": null,
            "align_self": null,
            "border": null,
            "bottom": null,
            "display": null,
            "flex": null,
            "flex_flow": null,
            "grid_area": null,
            "grid_auto_columns": null,
            "grid_auto_flow": null,
            "grid_auto_rows": null,
            "grid_column": null,
            "grid_gap": null,
            "grid_row": null,
            "grid_template_areas": null,
            "grid_template_columns": null,
            "grid_template_rows": null,
            "height": null,
            "justify_content": null,
            "justify_items": null,
            "left": null,
            "margin": null,
            "max_height": null,
            "max_width": null,
            "min_height": null,
            "min_width": null,
            "object_fit": null,
            "object_position": null,
            "order": null,
            "overflow": null,
            "overflow_x": null,
            "overflow_y": null,
            "padding": null,
            "right": null,
            "top": null,
            "visibility": null,
            "width": null
          }
        },
        "6a0911b4023d4754a58467e9684b1e2a": {
          "model_module": "@jupyter-widgets/controls",
          "model_name": "ProgressStyleModel",
          "model_module_version": "1.5.0",
          "state": {
            "_model_module": "@jupyter-widgets/controls",
            "_model_module_version": "1.5.0",
            "_model_name": "ProgressStyleModel",
            "_view_count": null,
            "_view_module": "@jupyter-widgets/base",
            "_view_module_version": "1.2.0",
            "_view_name": "StyleView",
            "bar_color": null,
            "description_width": ""
          }
        },
        "211b49e4f0e84a11a2c289f9552668e2": {
          "model_module": "@jupyter-widgets/base",
          "model_name": "LayoutModel",
          "model_module_version": "1.2.0",
          "state": {
            "_model_module": "@jupyter-widgets/base",
            "_model_module_version": "1.2.0",
            "_model_name": "LayoutModel",
            "_view_count": null,
            "_view_module": "@jupyter-widgets/base",
            "_view_module_version": "1.2.0",
            "_view_name": "LayoutView",
            "align_content": null,
            "align_items": null,
            "align_self": null,
            "border": null,
            "bottom": null,
            "display": null,
            "flex": null,
            "flex_flow": null,
            "grid_area": null,
            "grid_auto_columns": null,
            "grid_auto_flow": null,
            "grid_auto_rows": null,
            "grid_column": null,
            "grid_gap": null,
            "grid_row": null,
            "grid_template_areas": null,
            "grid_template_columns": null,
            "grid_template_rows": null,
            "height": null,
            "justify_content": null,
            "justify_items": null,
            "left": null,
            "margin": null,
            "max_height": null,
            "max_width": null,
            "min_height": null,
            "min_width": null,
            "object_fit": null,
            "object_position": null,
            "order": null,
            "overflow": null,
            "overflow_x": null,
            "overflow_y": null,
            "padding": null,
            "right": null,
            "top": null,
            "visibility": null,
            "width": null
          }
        },
        "a7496ed50cc341188b7d900b801d3a9c": {
          "model_module": "@jupyter-widgets/controls",
          "model_name": "DescriptionStyleModel",
          "model_module_version": "1.5.0",
          "state": {
            "_model_module": "@jupyter-widgets/controls",
            "_model_module_version": "1.5.0",
            "_model_name": "DescriptionStyleModel",
            "_view_count": null,
            "_view_module": "@jupyter-widgets/base",
            "_view_module_version": "1.2.0",
            "_view_name": "StyleView",
            "description_width": ""
          }
        },
        "af7ebb5ba0024746b1f0c33aaaef33e1": {
          "model_module": "@jupyter-widgets/controls",
          "model_name": "HBoxModel",
          "model_module_version": "1.5.0",
          "state": {
            "_dom_classes": [],
            "_model_module": "@jupyter-widgets/controls",
            "_model_module_version": "1.5.0",
            "_model_name": "HBoxModel",
            "_view_count": null,
            "_view_module": "@jupyter-widgets/controls",
            "_view_module_version": "1.5.0",
            "_view_name": "HBoxView",
            "box_style": "",
            "children": [
              "IPY_MODEL_c5c2e8c22ba247ca8bb2199c4d8f9343",
              "IPY_MODEL_c23d3e2ab3674e8480f98401631983f1",
              "IPY_MODEL_4949720c183d4d67be2be94b62785148"
            ],
            "layout": "IPY_MODEL_7e87ac4edd4f4c7fab76cd7ddb0ac1be"
          }
        },
        "c5c2e8c22ba247ca8bb2199c4d8f9343": {
          "model_module": "@jupyter-widgets/controls",
          "model_name": "HTMLModel",
          "model_module_version": "1.5.0",
          "state": {
            "_dom_classes": [],
            "_model_module": "@jupyter-widgets/controls",
            "_model_module_version": "1.5.0",
            "_model_name": "HTMLModel",
            "_view_count": null,
            "_view_module": "@jupyter-widgets/controls",
            "_view_module_version": "1.5.0",
            "_view_name": "HTMLView",
            "description": "",
            "description_tooltip": null,
            "layout": "IPY_MODEL_ca2d0bd076bf483bb6c0c819929a8859",
            "placeholder": "​",
            "style": "IPY_MODEL_6dcf45305052497ea779f3b9ff89f5e9",
            "value": "Downloading: 100%"
          }
        },
        "c23d3e2ab3674e8480f98401631983f1": {
          "model_module": "@jupyter-widgets/controls",
          "model_name": "FloatProgressModel",
          "model_module_version": "1.5.0",
          "state": {
            "_dom_classes": [],
            "_model_module": "@jupyter-widgets/controls",
            "_model_module_version": "1.5.0",
            "_model_name": "FloatProgressModel",
            "_view_count": null,
            "_view_module": "@jupyter-widgets/controls",
            "_view_module_version": "1.5.0",
            "_view_name": "ProgressView",
            "bar_style": "success",
            "description": "",
            "description_tooltip": null,
            "layout": "IPY_MODEL_7cea9cd6c9bc4c059fe5ac235c7a439b",
            "max": 536063208,
            "min": 0,
            "orientation": "horizontal",
            "style": "IPY_MODEL_f6ce020d17b84c03a302aa9d5c97e3ae",
            "value": 536063208
          }
        },
        "4949720c183d4d67be2be94b62785148": {
          "model_module": "@jupyter-widgets/controls",
          "model_name": "HTMLModel",
          "model_module_version": "1.5.0",
          "state": {
            "_dom_classes": [],
            "_model_module": "@jupyter-widgets/controls",
            "_model_module_version": "1.5.0",
            "_model_name": "HTMLModel",
            "_view_count": null,
            "_view_module": "@jupyter-widgets/controls",
            "_view_module_version": "1.5.0",
            "_view_name": "HTMLView",
            "description": "",
            "description_tooltip": null,
            "layout": "IPY_MODEL_0e7b957a0e3f4efcb8941fbe2858b31f",
            "placeholder": "​",
            "style": "IPY_MODEL_f6fe55ea0d5a47babf9107c0f962dac3",
            "value": " 511M/511M [00:26&lt;00:00, 25.8MB/s]"
          }
        },
        "7e87ac4edd4f4c7fab76cd7ddb0ac1be": {
          "model_module": "@jupyter-widgets/base",
          "model_name": "LayoutModel",
          "model_module_version": "1.2.0",
          "state": {
            "_model_module": "@jupyter-widgets/base",
            "_model_module_version": "1.2.0",
            "_model_name": "LayoutModel",
            "_view_count": null,
            "_view_module": "@jupyter-widgets/base",
            "_view_module_version": "1.2.0",
            "_view_name": "LayoutView",
            "align_content": null,
            "align_items": null,
            "align_self": null,
            "border": null,
            "bottom": null,
            "display": null,
            "flex": null,
            "flex_flow": null,
            "grid_area": null,
            "grid_auto_columns": null,
            "grid_auto_flow": null,
            "grid_auto_rows": null,
            "grid_column": null,
            "grid_gap": null,
            "grid_row": null,
            "grid_template_areas": null,
            "grid_template_columns": null,
            "grid_template_rows": null,
            "height": null,
            "justify_content": null,
            "justify_items": null,
            "left": null,
            "margin": null,
            "max_height": null,
            "max_width": null,
            "min_height": null,
            "min_width": null,
            "object_fit": null,
            "object_position": null,
            "order": null,
            "overflow": null,
            "overflow_x": null,
            "overflow_y": null,
            "padding": null,
            "right": null,
            "top": null,
            "visibility": null,
            "width": null
          }
        },
        "ca2d0bd076bf483bb6c0c819929a8859": {
          "model_module": "@jupyter-widgets/base",
          "model_name": "LayoutModel",
          "model_module_version": "1.2.0",
          "state": {
            "_model_module": "@jupyter-widgets/base",
            "_model_module_version": "1.2.0",
            "_model_name": "LayoutModel",
            "_view_count": null,
            "_view_module": "@jupyter-widgets/base",
            "_view_module_version": "1.2.0",
            "_view_name": "LayoutView",
            "align_content": null,
            "align_items": null,
            "align_self": null,
            "border": null,
            "bottom": null,
            "display": null,
            "flex": null,
            "flex_flow": null,
            "grid_area": null,
            "grid_auto_columns": null,
            "grid_auto_flow": null,
            "grid_auto_rows": null,
            "grid_column": null,
            "grid_gap": null,
            "grid_row": null,
            "grid_template_areas": null,
            "grid_template_columns": null,
            "grid_template_rows": null,
            "height": null,
            "justify_content": null,
            "justify_items": null,
            "left": null,
            "margin": null,
            "max_height": null,
            "max_width": null,
            "min_height": null,
            "min_width": null,
            "object_fit": null,
            "object_position": null,
            "order": null,
            "overflow": null,
            "overflow_x": null,
            "overflow_y": null,
            "padding": null,
            "right": null,
            "top": null,
            "visibility": null,
            "width": null
          }
        },
        "6dcf45305052497ea779f3b9ff89f5e9": {
          "model_module": "@jupyter-widgets/controls",
          "model_name": "DescriptionStyleModel",
          "model_module_version": "1.5.0",
          "state": {
            "_model_module": "@jupyter-widgets/controls",
            "_model_module_version": "1.5.0",
            "_model_name": "DescriptionStyleModel",
            "_view_count": null,
            "_view_module": "@jupyter-widgets/base",
            "_view_module_version": "1.2.0",
            "_view_name": "StyleView",
            "description_width": ""
          }
        },
        "7cea9cd6c9bc4c059fe5ac235c7a439b": {
          "model_module": "@jupyter-widgets/base",
          "model_name": "LayoutModel",
          "model_module_version": "1.2.0",
          "state": {
            "_model_module": "@jupyter-widgets/base",
            "_model_module_version": "1.2.0",
            "_model_name": "LayoutModel",
            "_view_count": null,
            "_view_module": "@jupyter-widgets/base",
            "_view_module_version": "1.2.0",
            "_view_name": "LayoutView",
            "align_content": null,
            "align_items": null,
            "align_self": null,
            "border": null,
            "bottom": null,
            "display": null,
            "flex": null,
            "flex_flow": null,
            "grid_area": null,
            "grid_auto_columns": null,
            "grid_auto_flow": null,
            "grid_auto_rows": null,
            "grid_column": null,
            "grid_gap": null,
            "grid_row": null,
            "grid_template_areas": null,
            "grid_template_columns": null,
            "grid_template_rows": null,
            "height": null,
            "justify_content": null,
            "justify_items": null,
            "left": null,
            "margin": null,
            "max_height": null,
            "max_width": null,
            "min_height": null,
            "min_width": null,
            "object_fit": null,
            "object_position": null,
            "order": null,
            "overflow": null,
            "overflow_x": null,
            "overflow_y": null,
            "padding": null,
            "right": null,
            "top": null,
            "visibility": null,
            "width": null
          }
        },
        "f6ce020d17b84c03a302aa9d5c97e3ae": {
          "model_module": "@jupyter-widgets/controls",
          "model_name": "ProgressStyleModel",
          "model_module_version": "1.5.0",
          "state": {
            "_model_module": "@jupyter-widgets/controls",
            "_model_module_version": "1.5.0",
            "_model_name": "ProgressStyleModel",
            "_view_count": null,
            "_view_module": "@jupyter-widgets/base",
            "_view_module_version": "1.2.0",
            "_view_name": "StyleView",
            "bar_color": null,
            "description_width": ""
          }
        },
        "0e7b957a0e3f4efcb8941fbe2858b31f": {
          "model_module": "@jupyter-widgets/base",
          "model_name": "LayoutModel",
          "model_module_version": "1.2.0",
          "state": {
            "_model_module": "@jupyter-widgets/base",
            "_model_module_version": "1.2.0",
            "_model_name": "LayoutModel",
            "_view_count": null,
            "_view_module": "@jupyter-widgets/base",
            "_view_module_version": "1.2.0",
            "_view_name": "LayoutView",
            "align_content": null,
            "align_items": null,
            "align_self": null,
            "border": null,
            "bottom": null,
            "display": null,
            "flex": null,
            "flex_flow": null,
            "grid_area": null,
            "grid_auto_columns": null,
            "grid_auto_flow": null,
            "grid_auto_rows": null,
            "grid_column": null,
            "grid_gap": null,
            "grid_row": null,
            "grid_template_areas": null,
            "grid_template_columns": null,
            "grid_template_rows": null,
            "height": null,
            "justify_content": null,
            "justify_items": null,
            "left": null,
            "margin": null,
            "max_height": null,
            "max_width": null,
            "min_height": null,
            "min_width": null,
            "object_fit": null,
            "object_position": null,
            "order": null,
            "overflow": null,
            "overflow_x": null,
            "overflow_y": null,
            "padding": null,
            "right": null,
            "top": null,
            "visibility": null,
            "width": null
          }
        },
        "f6fe55ea0d5a47babf9107c0f962dac3": {
          "model_module": "@jupyter-widgets/controls",
          "model_name": "DescriptionStyleModel",
          "model_module_version": "1.5.0",
          "state": {
            "_model_module": "@jupyter-widgets/controls",
            "_model_module_version": "1.5.0",
            "_model_name": "DescriptionStyleModel",
            "_view_count": null,
            "_view_module": "@jupyter-widgets/base",
            "_view_module_version": "1.2.0",
            "_view_name": "StyleView",
            "description_width": ""
          }
        },
        "9866d9e7137e49908ce07593975fb365": {
          "model_module": "@jupyter-widgets/controls",
          "model_name": "HBoxModel",
          "model_module_version": "1.5.0",
          "state": {
            "_dom_classes": [],
            "_model_module": "@jupyter-widgets/controls",
            "_model_module_version": "1.5.0",
            "_model_name": "HBoxModel",
            "_view_count": null,
            "_view_module": "@jupyter-widgets/controls",
            "_view_module_version": "1.5.0",
            "_view_name": "HBoxView",
            "box_style": "",
            "children": [
              "IPY_MODEL_c15348f2235143d3832280e73b30229a",
              "IPY_MODEL_b7d42dd6a4e14affa1cdeb4ed042164d",
              "IPY_MODEL_1b3059dfc2bf46f5b85340efed32f522"
            ],
            "layout": "IPY_MODEL_e43f25e46659481e8f35b5dd735771c3"
          }
        },
        "c15348f2235143d3832280e73b30229a": {
          "model_module": "@jupyter-widgets/controls",
          "model_name": "HTMLModel",
          "model_module_version": "1.5.0",
          "state": {
            "_dom_classes": [],
            "_model_module": "@jupyter-widgets/controls",
            "_model_module_version": "1.5.0",
            "_model_name": "HTMLModel",
            "_view_count": null,
            "_view_module": "@jupyter-widgets/controls",
            "_view_module_version": "1.5.0",
            "_view_name": "HTMLView",
            "description": "",
            "description_tooltip": null,
            "layout": "IPY_MODEL_80e31b58aaff454091eb09768ab90bc8",
            "placeholder": "​",
            "style": "IPY_MODEL_9129555a32e543109baa0d1605fc7b0d",
            "value": "Downloading: 100%"
          }
        },
        "b7d42dd6a4e14affa1cdeb4ed042164d": {
          "model_module": "@jupyter-widgets/controls",
          "model_name": "FloatProgressModel",
          "model_module_version": "1.5.0",
          "state": {
            "_dom_classes": [],
            "_model_module": "@jupyter-widgets/controls",
            "_model_module_version": "1.5.0",
            "_model_name": "FloatProgressModel",
            "_view_count": null,
            "_view_module": "@jupyter-widgets/controls",
            "_view_module_version": "1.5.0",
            "_view_name": "ProgressView",
            "bar_style": "success",
            "description": "",
            "description_tooltip": null,
            "layout": "IPY_MODEL_18c9caf5f1bb4e61912e8f93fdaed99b",
            "max": 231508,
            "min": 0,
            "orientation": "horizontal",
            "style": "IPY_MODEL_34bd2678349a4506be6d0ab9b7d205b5",
            "value": 231508
          }
        },
        "1b3059dfc2bf46f5b85340efed32f522": {
          "model_module": "@jupyter-widgets/controls",
          "model_name": "HTMLModel",
          "model_module_version": "1.5.0",
          "state": {
            "_dom_classes": [],
            "_model_module": "@jupyter-widgets/controls",
            "_model_module_version": "1.5.0",
            "_model_name": "HTMLModel",
            "_view_count": null,
            "_view_module": "@jupyter-widgets/controls",
            "_view_module_version": "1.5.0",
            "_view_name": "HTMLView",
            "description": "",
            "description_tooltip": null,
            "layout": "IPY_MODEL_338eb3ca64ad43f5a2e083a819b691dd",
            "placeholder": "​",
            "style": "IPY_MODEL_e37e8a7f981140ddb932771301262d29",
            "value": " 226k/226k [00:00&lt;00:00, 1.69MB/s]"
          }
        },
        "e43f25e46659481e8f35b5dd735771c3": {
          "model_module": "@jupyter-widgets/base",
          "model_name": "LayoutModel",
          "model_module_version": "1.2.0",
          "state": {
            "_model_module": "@jupyter-widgets/base",
            "_model_module_version": "1.2.0",
            "_model_name": "LayoutModel",
            "_view_count": null,
            "_view_module": "@jupyter-widgets/base",
            "_view_module_version": "1.2.0",
            "_view_name": "LayoutView",
            "align_content": null,
            "align_items": null,
            "align_self": null,
            "border": null,
            "bottom": null,
            "display": null,
            "flex": null,
            "flex_flow": null,
            "grid_area": null,
            "grid_auto_columns": null,
            "grid_auto_flow": null,
            "grid_auto_rows": null,
            "grid_column": null,
            "grid_gap": null,
            "grid_row": null,
            "grid_template_areas": null,
            "grid_template_columns": null,
            "grid_template_rows": null,
            "height": null,
            "justify_content": null,
            "justify_items": null,
            "left": null,
            "margin": null,
            "max_height": null,
            "max_width": null,
            "min_height": null,
            "min_width": null,
            "object_fit": null,
            "object_position": null,
            "order": null,
            "overflow": null,
            "overflow_x": null,
            "overflow_y": null,
            "padding": null,
            "right": null,
            "top": null,
            "visibility": null,
            "width": null
          }
        },
        "80e31b58aaff454091eb09768ab90bc8": {
          "model_module": "@jupyter-widgets/base",
          "model_name": "LayoutModel",
          "model_module_version": "1.2.0",
          "state": {
            "_model_module": "@jupyter-widgets/base",
            "_model_module_version": "1.2.0",
            "_model_name": "LayoutModel",
            "_view_count": null,
            "_view_module": "@jupyter-widgets/base",
            "_view_module_version": "1.2.0",
            "_view_name": "LayoutView",
            "align_content": null,
            "align_items": null,
            "align_self": null,
            "border": null,
            "bottom": null,
            "display": null,
            "flex": null,
            "flex_flow": null,
            "grid_area": null,
            "grid_auto_columns": null,
            "grid_auto_flow": null,
            "grid_auto_rows": null,
            "grid_column": null,
            "grid_gap": null,
            "grid_row": null,
            "grid_template_areas": null,
            "grid_template_columns": null,
            "grid_template_rows": null,
            "height": null,
            "justify_content": null,
            "justify_items": null,
            "left": null,
            "margin": null,
            "max_height": null,
            "max_width": null,
            "min_height": null,
            "min_width": null,
            "object_fit": null,
            "object_position": null,
            "order": null,
            "overflow": null,
            "overflow_x": null,
            "overflow_y": null,
            "padding": null,
            "right": null,
            "top": null,
            "visibility": null,
            "width": null
          }
        },
        "9129555a32e543109baa0d1605fc7b0d": {
          "model_module": "@jupyter-widgets/controls",
          "model_name": "DescriptionStyleModel",
          "model_module_version": "1.5.0",
          "state": {
            "_model_module": "@jupyter-widgets/controls",
            "_model_module_version": "1.5.0",
            "_model_name": "DescriptionStyleModel",
            "_view_count": null,
            "_view_module": "@jupyter-widgets/base",
            "_view_module_version": "1.2.0",
            "_view_name": "StyleView",
            "description_width": ""
          }
        },
        "18c9caf5f1bb4e61912e8f93fdaed99b": {
          "model_module": "@jupyter-widgets/base",
          "model_name": "LayoutModel",
          "model_module_version": "1.2.0",
          "state": {
            "_model_module": "@jupyter-widgets/base",
            "_model_module_version": "1.2.0",
            "_model_name": "LayoutModel",
            "_view_count": null,
            "_view_module": "@jupyter-widgets/base",
            "_view_module_version": "1.2.0",
            "_view_name": "LayoutView",
            "align_content": null,
            "align_items": null,
            "align_self": null,
            "border": null,
            "bottom": null,
            "display": null,
            "flex": null,
            "flex_flow": null,
            "grid_area": null,
            "grid_auto_columns": null,
            "grid_auto_flow": null,
            "grid_auto_rows": null,
            "grid_column": null,
            "grid_gap": null,
            "grid_row": null,
            "grid_template_areas": null,
            "grid_template_columns": null,
            "grid_template_rows": null,
            "height": null,
            "justify_content": null,
            "justify_items": null,
            "left": null,
            "margin": null,
            "max_height": null,
            "max_width": null,
            "min_height": null,
            "min_width": null,
            "object_fit": null,
            "object_position": null,
            "order": null,
            "overflow": null,
            "overflow_x": null,
            "overflow_y": null,
            "padding": null,
            "right": null,
            "top": null,
            "visibility": null,
            "width": null
          }
        },
        "34bd2678349a4506be6d0ab9b7d205b5": {
          "model_module": "@jupyter-widgets/controls",
          "model_name": "ProgressStyleModel",
          "model_module_version": "1.5.0",
          "state": {
            "_model_module": "@jupyter-widgets/controls",
            "_model_module_version": "1.5.0",
            "_model_name": "ProgressStyleModel",
            "_view_count": null,
            "_view_module": "@jupyter-widgets/base",
            "_view_module_version": "1.2.0",
            "_view_name": "StyleView",
            "bar_color": null,
            "description_width": ""
          }
        },
        "338eb3ca64ad43f5a2e083a819b691dd": {
          "model_module": "@jupyter-widgets/base",
          "model_name": "LayoutModel",
          "model_module_version": "1.2.0",
          "state": {
            "_model_module": "@jupyter-widgets/base",
            "_model_module_version": "1.2.0",
            "_model_name": "LayoutModel",
            "_view_count": null,
            "_view_module": "@jupyter-widgets/base",
            "_view_module_version": "1.2.0",
            "_view_name": "LayoutView",
            "align_content": null,
            "align_items": null,
            "align_self": null,
            "border": null,
            "bottom": null,
            "display": null,
            "flex": null,
            "flex_flow": null,
            "grid_area": null,
            "grid_auto_columns": null,
            "grid_auto_flow": null,
            "grid_auto_rows": null,
            "grid_column": null,
            "grid_gap": null,
            "grid_row": null,
            "grid_template_areas": null,
            "grid_template_columns": null,
            "grid_template_rows": null,
            "height": null,
            "justify_content": null,
            "justify_items": null,
            "left": null,
            "margin": null,
            "max_height": null,
            "max_width": null,
            "min_height": null,
            "min_width": null,
            "object_fit": null,
            "object_position": null,
            "order": null,
            "overflow": null,
            "overflow_x": null,
            "overflow_y": null,
            "padding": null,
            "right": null,
            "top": null,
            "visibility": null,
            "width": null
          }
        },
        "e37e8a7f981140ddb932771301262d29": {
          "model_module": "@jupyter-widgets/controls",
          "model_name": "DescriptionStyleModel",
          "model_module_version": "1.5.0",
          "state": {
            "_model_module": "@jupyter-widgets/controls",
            "_model_module_version": "1.5.0",
            "_model_name": "DescriptionStyleModel",
            "_view_count": null,
            "_view_module": "@jupyter-widgets/base",
            "_view_module_version": "1.2.0",
            "_view_name": "StyleView",
            "description_width": ""
          }
        },
        "4313bb22516b48e7ba435f8d8eaf574e": {
          "model_module": "@jupyter-widgets/controls",
          "model_name": "HBoxModel",
          "model_module_version": "1.5.0",
          "state": {
            "_dom_classes": [],
            "_model_module": "@jupyter-widgets/controls",
            "_model_module_version": "1.5.0",
            "_model_name": "HBoxModel",
            "_view_count": null,
            "_view_module": "@jupyter-widgets/controls",
            "_view_module_version": "1.5.0",
            "_view_name": "HBoxView",
            "box_style": "",
            "children": [
              "IPY_MODEL_63e0f231ac8049af8c177049ef6d8ef3",
              "IPY_MODEL_bbf3db0b68794b0f8a9d2f465b10aaf1",
              "IPY_MODEL_de452024b8514a04aeecb116a62dd10f"
            ],
            "layout": "IPY_MODEL_6c4370d904c2447f9a5ca0721344ca5c"
          }
        },
        "63e0f231ac8049af8c177049ef6d8ef3": {
          "model_module": "@jupyter-widgets/controls",
          "model_name": "HTMLModel",
          "model_module_version": "1.5.0",
          "state": {
            "_dom_classes": [],
            "_model_module": "@jupyter-widgets/controls",
            "_model_module_version": "1.5.0",
            "_model_name": "HTMLModel",
            "_view_count": null,
            "_view_module": "@jupyter-widgets/controls",
            "_view_module_version": "1.5.0",
            "_view_name": "HTMLView",
            "description": "",
            "description_tooltip": null,
            "layout": "IPY_MODEL_81e82af329b846dab599c8b1331d5e41",
            "placeholder": "​",
            "style": "IPY_MODEL_15b78fd3c9e2479fa7874671788ee957",
            "value": "Downloading: 100%"
          }
        },
        "bbf3db0b68794b0f8a9d2f465b10aaf1": {
          "model_module": "@jupyter-widgets/controls",
          "model_name": "FloatProgressModel",
          "model_module_version": "1.5.0",
          "state": {
            "_dom_classes": [],
            "_model_module": "@jupyter-widgets/controls",
            "_model_module_version": "1.5.0",
            "_model_name": "FloatProgressModel",
            "_view_count": null,
            "_view_module": "@jupyter-widgets/controls",
            "_view_module_version": "1.5.0",
            "_view_name": "ProgressView",
            "bar_style": "success",
            "description": "",
            "description_tooltip": null,
            "layout": "IPY_MODEL_ef6133d0113a4cee8c7dcc3af47ab952",
            "max": 28,
            "min": 0,
            "orientation": "horizontal",
            "style": "IPY_MODEL_4201282f3c9749be9adad3f2ebb6d268",
            "value": 28
          }
        },
        "de452024b8514a04aeecb116a62dd10f": {
          "model_module": "@jupyter-widgets/controls",
          "model_name": "HTMLModel",
          "model_module_version": "1.5.0",
          "state": {
            "_dom_classes": [],
            "_model_module": "@jupyter-widgets/controls",
            "_model_module_version": "1.5.0",
            "_model_name": "HTMLModel",
            "_view_count": null,
            "_view_module": "@jupyter-widgets/controls",
            "_view_module_version": "1.5.0",
            "_view_name": "HTMLView",
            "description": "",
            "description_tooltip": null,
            "layout": "IPY_MODEL_7c765436233844e1bf7f24a8c7ced263",
            "placeholder": "​",
            "style": "IPY_MODEL_da886e1b41a44c379130d28c7bbf7ac1",
            "value": " 28.0/28.0 [00:00&lt;00:00, 750B/s]"
          }
        },
        "6c4370d904c2447f9a5ca0721344ca5c": {
          "model_module": "@jupyter-widgets/base",
          "model_name": "LayoutModel",
          "model_module_version": "1.2.0",
          "state": {
            "_model_module": "@jupyter-widgets/base",
            "_model_module_version": "1.2.0",
            "_model_name": "LayoutModel",
            "_view_count": null,
            "_view_module": "@jupyter-widgets/base",
            "_view_module_version": "1.2.0",
            "_view_name": "LayoutView",
            "align_content": null,
            "align_items": null,
            "align_self": null,
            "border": null,
            "bottom": null,
            "display": null,
            "flex": null,
            "flex_flow": null,
            "grid_area": null,
            "grid_auto_columns": null,
            "grid_auto_flow": null,
            "grid_auto_rows": null,
            "grid_column": null,
            "grid_gap": null,
            "grid_row": null,
            "grid_template_areas": null,
            "grid_template_columns": null,
            "grid_template_rows": null,
            "height": null,
            "justify_content": null,
            "justify_items": null,
            "left": null,
            "margin": null,
            "max_height": null,
            "max_width": null,
            "min_height": null,
            "min_width": null,
            "object_fit": null,
            "object_position": null,
            "order": null,
            "overflow": null,
            "overflow_x": null,
            "overflow_y": null,
            "padding": null,
            "right": null,
            "top": null,
            "visibility": null,
            "width": null
          }
        },
        "81e82af329b846dab599c8b1331d5e41": {
          "model_module": "@jupyter-widgets/base",
          "model_name": "LayoutModel",
          "model_module_version": "1.2.0",
          "state": {
            "_model_module": "@jupyter-widgets/base",
            "_model_module_version": "1.2.0",
            "_model_name": "LayoutModel",
            "_view_count": null,
            "_view_module": "@jupyter-widgets/base",
            "_view_module_version": "1.2.0",
            "_view_name": "LayoutView",
            "align_content": null,
            "align_items": null,
            "align_self": null,
            "border": null,
            "bottom": null,
            "display": null,
            "flex": null,
            "flex_flow": null,
            "grid_area": null,
            "grid_auto_columns": null,
            "grid_auto_flow": null,
            "grid_auto_rows": null,
            "grid_column": null,
            "grid_gap": null,
            "grid_row": null,
            "grid_template_areas": null,
            "grid_template_columns": null,
            "grid_template_rows": null,
            "height": null,
            "justify_content": null,
            "justify_items": null,
            "left": null,
            "margin": null,
            "max_height": null,
            "max_width": null,
            "min_height": null,
            "min_width": null,
            "object_fit": null,
            "object_position": null,
            "order": null,
            "overflow": null,
            "overflow_x": null,
            "overflow_y": null,
            "padding": null,
            "right": null,
            "top": null,
            "visibility": null,
            "width": null
          }
        },
        "15b78fd3c9e2479fa7874671788ee957": {
          "model_module": "@jupyter-widgets/controls",
          "model_name": "DescriptionStyleModel",
          "model_module_version": "1.5.0",
          "state": {
            "_model_module": "@jupyter-widgets/controls",
            "_model_module_version": "1.5.0",
            "_model_name": "DescriptionStyleModel",
            "_view_count": null,
            "_view_module": "@jupyter-widgets/base",
            "_view_module_version": "1.2.0",
            "_view_name": "StyleView",
            "description_width": ""
          }
        },
        "ef6133d0113a4cee8c7dcc3af47ab952": {
          "model_module": "@jupyter-widgets/base",
          "model_name": "LayoutModel",
          "model_module_version": "1.2.0",
          "state": {
            "_model_module": "@jupyter-widgets/base",
            "_model_module_version": "1.2.0",
            "_model_name": "LayoutModel",
            "_view_count": null,
            "_view_module": "@jupyter-widgets/base",
            "_view_module_version": "1.2.0",
            "_view_name": "LayoutView",
            "align_content": null,
            "align_items": null,
            "align_self": null,
            "border": null,
            "bottom": null,
            "display": null,
            "flex": null,
            "flex_flow": null,
            "grid_area": null,
            "grid_auto_columns": null,
            "grid_auto_flow": null,
            "grid_auto_rows": null,
            "grid_column": null,
            "grid_gap": null,
            "grid_row": null,
            "grid_template_areas": null,
            "grid_template_columns": null,
            "grid_template_rows": null,
            "height": null,
            "justify_content": null,
            "justify_items": null,
            "left": null,
            "margin": null,
            "max_height": null,
            "max_width": null,
            "min_height": null,
            "min_width": null,
            "object_fit": null,
            "object_position": null,
            "order": null,
            "overflow": null,
            "overflow_x": null,
            "overflow_y": null,
            "padding": null,
            "right": null,
            "top": null,
            "visibility": null,
            "width": null
          }
        },
        "4201282f3c9749be9adad3f2ebb6d268": {
          "model_module": "@jupyter-widgets/controls",
          "model_name": "ProgressStyleModel",
          "model_module_version": "1.5.0",
          "state": {
            "_model_module": "@jupyter-widgets/controls",
            "_model_module_version": "1.5.0",
            "_model_name": "ProgressStyleModel",
            "_view_count": null,
            "_view_module": "@jupyter-widgets/base",
            "_view_module_version": "1.2.0",
            "_view_name": "StyleView",
            "bar_color": null,
            "description_width": ""
          }
        },
        "7c765436233844e1bf7f24a8c7ced263": {
          "model_module": "@jupyter-widgets/base",
          "model_name": "LayoutModel",
          "model_module_version": "1.2.0",
          "state": {
            "_model_module": "@jupyter-widgets/base",
            "_model_module_version": "1.2.0",
            "_model_name": "LayoutModel",
            "_view_count": null,
            "_view_module": "@jupyter-widgets/base",
            "_view_module_version": "1.2.0",
            "_view_name": "LayoutView",
            "align_content": null,
            "align_items": null,
            "align_self": null,
            "border": null,
            "bottom": null,
            "display": null,
            "flex": null,
            "flex_flow": null,
            "grid_area": null,
            "grid_auto_columns": null,
            "grid_auto_flow": null,
            "grid_auto_rows": null,
            "grid_column": null,
            "grid_gap": null,
            "grid_row": null,
            "grid_template_areas": null,
            "grid_template_columns": null,
            "grid_template_rows": null,
            "height": null,
            "justify_content": null,
            "justify_items": null,
            "left": null,
            "margin": null,
            "max_height": null,
            "max_width": null,
            "min_height": null,
            "min_width": null,
            "object_fit": null,
            "object_position": null,
            "order": null,
            "overflow": null,
            "overflow_x": null,
            "overflow_y": null,
            "padding": null,
            "right": null,
            "top": null,
            "visibility": null,
            "width": null
          }
        },
        "da886e1b41a44c379130d28c7bbf7ac1": {
          "model_module": "@jupyter-widgets/controls",
          "model_name": "DescriptionStyleModel",
          "model_module_version": "1.5.0",
          "state": {
            "_model_module": "@jupyter-widgets/controls",
            "_model_module_version": "1.5.0",
            "_model_name": "DescriptionStyleModel",
            "_view_count": null,
            "_view_module": "@jupyter-widgets/base",
            "_view_module_version": "1.2.0",
            "_view_name": "StyleView",
            "description_width": ""
          }
        },
        "cd72b72d8ccd4e6aa6b8d1f42330466a": {
          "model_module": "@jupyter-widgets/controls",
          "model_name": "HBoxModel",
          "model_module_version": "1.5.0",
          "state": {
            "_dom_classes": [],
            "_model_module": "@jupyter-widgets/controls",
            "_model_module_version": "1.5.0",
            "_model_name": "HBoxModel",
            "_view_count": null,
            "_view_module": "@jupyter-widgets/controls",
            "_view_module_version": "1.5.0",
            "_view_name": "HBoxView",
            "box_style": "",
            "children": [
              "IPY_MODEL_6e81b84d53b34d7ab5e0b96a50612d92",
              "IPY_MODEL_8ad00c4e912a4c4a9d1e6dcbfc44d3f4",
              "IPY_MODEL_5885a72cdea24667a46156e68f4a2273"
            ],
            "layout": "IPY_MODEL_ce075f4a11df4fd69aecdacbb936cbd1"
          }
        },
        "6e81b84d53b34d7ab5e0b96a50612d92": {
          "model_module": "@jupyter-widgets/controls",
          "model_name": "HTMLModel",
          "model_module_version": "1.5.0",
          "state": {
            "_dom_classes": [],
            "_model_module": "@jupyter-widgets/controls",
            "_model_module_version": "1.5.0",
            "_model_name": "HTMLModel",
            "_view_count": null,
            "_view_module": "@jupyter-widgets/controls",
            "_view_module_version": "1.5.0",
            "_view_name": "HTMLView",
            "description": "",
            "description_tooltip": null,
            "layout": "IPY_MODEL_16be5846554846b49eed5dd1103945ad",
            "placeholder": "​",
            "style": "IPY_MODEL_d110bc001f66459fae31ffd80dad5fe3",
            "value": "100%"
          }
        },
        "8ad00c4e912a4c4a9d1e6dcbfc44d3f4": {
          "model_module": "@jupyter-widgets/controls",
          "model_name": "FloatProgressModel",
          "model_module_version": "1.5.0",
          "state": {
            "_dom_classes": [],
            "_model_module": "@jupyter-widgets/controls",
            "_model_module_version": "1.5.0",
            "_model_name": "FloatProgressModel",
            "_view_count": null,
            "_view_module": "@jupyter-widgets/controls",
            "_view_module_version": "1.5.0",
            "_view_name": "ProgressView",
            "bar_style": "success",
            "description": "",
            "description_tooltip": null,
            "layout": "IPY_MODEL_d63fb0c22c754ae5ae6a02a11b1c75c0",
            "max": 45,
            "min": 0,
            "orientation": "horizontal",
            "style": "IPY_MODEL_71074ce860c240618986d2cb024bd0a9",
            "value": 45
          }
        },
        "5885a72cdea24667a46156e68f4a2273": {
          "model_module": "@jupyter-widgets/controls",
          "model_name": "HTMLModel",
          "model_module_version": "1.5.0",
          "state": {
            "_dom_classes": [],
            "_model_module": "@jupyter-widgets/controls",
            "_model_module_version": "1.5.0",
            "_model_name": "HTMLModel",
            "_view_count": null,
            "_view_module": "@jupyter-widgets/controls",
            "_view_module_version": "1.5.0",
            "_view_name": "HTMLView",
            "description": "",
            "description_tooltip": null,
            "layout": "IPY_MODEL_0be6614c601f4783854ef5a93eeb2125",
            "placeholder": "​",
            "style": "IPY_MODEL_5193b057e7e54be4bd352e8e9de9183d",
            "value": " 45/45 [00:01&lt;00:00, 33.67it/s]"
          }
        },
        "ce075f4a11df4fd69aecdacbb936cbd1": {
          "model_module": "@jupyter-widgets/base",
          "model_name": "LayoutModel",
          "model_module_version": "1.2.0",
          "state": {
            "_model_module": "@jupyter-widgets/base",
            "_model_module_version": "1.2.0",
            "_model_name": "LayoutModel",
            "_view_count": null,
            "_view_module": "@jupyter-widgets/base",
            "_view_module_version": "1.2.0",
            "_view_name": "LayoutView",
            "align_content": null,
            "align_items": null,
            "align_self": null,
            "border": null,
            "bottom": null,
            "display": null,
            "flex": null,
            "flex_flow": null,
            "grid_area": null,
            "grid_auto_columns": null,
            "grid_auto_flow": null,
            "grid_auto_rows": null,
            "grid_column": null,
            "grid_gap": null,
            "grid_row": null,
            "grid_template_areas": null,
            "grid_template_columns": null,
            "grid_template_rows": null,
            "height": null,
            "justify_content": null,
            "justify_items": null,
            "left": null,
            "margin": null,
            "max_height": null,
            "max_width": null,
            "min_height": null,
            "min_width": null,
            "object_fit": null,
            "object_position": null,
            "order": null,
            "overflow": null,
            "overflow_x": null,
            "overflow_y": null,
            "padding": null,
            "right": null,
            "top": null,
            "visibility": null,
            "width": null
          }
        },
        "16be5846554846b49eed5dd1103945ad": {
          "model_module": "@jupyter-widgets/base",
          "model_name": "LayoutModel",
          "model_module_version": "1.2.0",
          "state": {
            "_model_module": "@jupyter-widgets/base",
            "_model_module_version": "1.2.0",
            "_model_name": "LayoutModel",
            "_view_count": null,
            "_view_module": "@jupyter-widgets/base",
            "_view_module_version": "1.2.0",
            "_view_name": "LayoutView",
            "align_content": null,
            "align_items": null,
            "align_self": null,
            "border": null,
            "bottom": null,
            "display": null,
            "flex": null,
            "flex_flow": null,
            "grid_area": null,
            "grid_auto_columns": null,
            "grid_auto_flow": null,
            "grid_auto_rows": null,
            "grid_column": null,
            "grid_gap": null,
            "grid_row": null,
            "grid_template_areas": null,
            "grid_template_columns": null,
            "grid_template_rows": null,
            "height": null,
            "justify_content": null,
            "justify_items": null,
            "left": null,
            "margin": null,
            "max_height": null,
            "max_width": null,
            "min_height": null,
            "min_width": null,
            "object_fit": null,
            "object_position": null,
            "order": null,
            "overflow": null,
            "overflow_x": null,
            "overflow_y": null,
            "padding": null,
            "right": null,
            "top": null,
            "visibility": null,
            "width": null
          }
        },
        "d110bc001f66459fae31ffd80dad5fe3": {
          "model_module": "@jupyter-widgets/controls",
          "model_name": "DescriptionStyleModel",
          "model_module_version": "1.5.0",
          "state": {
            "_model_module": "@jupyter-widgets/controls",
            "_model_module_version": "1.5.0",
            "_model_name": "DescriptionStyleModel",
            "_view_count": null,
            "_view_module": "@jupyter-widgets/base",
            "_view_module_version": "1.2.0",
            "_view_name": "StyleView",
            "description_width": ""
          }
        },
        "d63fb0c22c754ae5ae6a02a11b1c75c0": {
          "model_module": "@jupyter-widgets/base",
          "model_name": "LayoutModel",
          "model_module_version": "1.2.0",
          "state": {
            "_model_module": "@jupyter-widgets/base",
            "_model_module_version": "1.2.0",
            "_model_name": "LayoutModel",
            "_view_count": null,
            "_view_module": "@jupyter-widgets/base",
            "_view_module_version": "1.2.0",
            "_view_name": "LayoutView",
            "align_content": null,
            "align_items": null,
            "align_self": null,
            "border": null,
            "bottom": null,
            "display": null,
            "flex": null,
            "flex_flow": null,
            "grid_area": null,
            "grid_auto_columns": null,
            "grid_auto_flow": null,
            "grid_auto_rows": null,
            "grid_column": null,
            "grid_gap": null,
            "grid_row": null,
            "grid_template_areas": null,
            "grid_template_columns": null,
            "grid_template_rows": null,
            "height": null,
            "justify_content": null,
            "justify_items": null,
            "left": null,
            "margin": null,
            "max_height": null,
            "max_width": null,
            "min_height": null,
            "min_width": null,
            "object_fit": null,
            "object_position": null,
            "order": null,
            "overflow": null,
            "overflow_x": null,
            "overflow_y": null,
            "padding": null,
            "right": null,
            "top": null,
            "visibility": null,
            "width": null
          }
        },
        "71074ce860c240618986d2cb024bd0a9": {
          "model_module": "@jupyter-widgets/controls",
          "model_name": "ProgressStyleModel",
          "model_module_version": "1.5.0",
          "state": {
            "_model_module": "@jupyter-widgets/controls",
            "_model_module_version": "1.5.0",
            "_model_name": "ProgressStyleModel",
            "_view_count": null,
            "_view_module": "@jupyter-widgets/base",
            "_view_module_version": "1.2.0",
            "_view_name": "StyleView",
            "bar_color": null,
            "description_width": ""
          }
        },
        "0be6614c601f4783854ef5a93eeb2125": {
          "model_module": "@jupyter-widgets/base",
          "model_name": "LayoutModel",
          "model_module_version": "1.2.0",
          "state": {
            "_model_module": "@jupyter-widgets/base",
            "_model_module_version": "1.2.0",
            "_model_name": "LayoutModel",
            "_view_count": null,
            "_view_module": "@jupyter-widgets/base",
            "_view_module_version": "1.2.0",
            "_view_name": "LayoutView",
            "align_content": null,
            "align_items": null,
            "align_self": null,
            "border": null,
            "bottom": null,
            "display": null,
            "flex": null,
            "flex_flow": null,
            "grid_area": null,
            "grid_auto_columns": null,
            "grid_auto_flow": null,
            "grid_auto_rows": null,
            "grid_column": null,
            "grid_gap": null,
            "grid_row": null,
            "grid_template_areas": null,
            "grid_template_columns": null,
            "grid_template_rows": null,
            "height": null,
            "justify_content": null,
            "justify_items": null,
            "left": null,
            "margin": null,
            "max_height": null,
            "max_width": null,
            "min_height": null,
            "min_width": null,
            "object_fit": null,
            "object_position": null,
            "order": null,
            "overflow": null,
            "overflow_x": null,
            "overflow_y": null,
            "padding": null,
            "right": null,
            "top": null,
            "visibility": null,
            "width": null
          }
        },
        "5193b057e7e54be4bd352e8e9de9183d": {
          "model_module": "@jupyter-widgets/controls",
          "model_name": "DescriptionStyleModel",
          "model_module_version": "1.5.0",
          "state": {
            "_model_module": "@jupyter-widgets/controls",
            "_model_module_version": "1.5.0",
            "_model_name": "DescriptionStyleModel",
            "_view_count": null,
            "_view_module": "@jupyter-widgets/base",
            "_view_module_version": "1.2.0",
            "_view_name": "StyleView",
            "description_width": ""
          }
        }
      }
    }
  },
  "nbformat": 4,
  "nbformat_minor": 0
}